{
  "cells": [
    {
      "cell_type": "markdown",
      "metadata": {
        "id": "-D4CilO2A-RG"
      },
      "source": [
        "### Classification Project\n",
        "### Team 06\n",
        "### Members\n",
        "\n",
        "* 202418006\n",
        "* 202418008\n",
        "* 202418012\n",
        "* 202418045"
      ]
    },
    {
      "cell_type": "markdown",
      "metadata": {
        "id": "xqq8FEIVA-RI"
      },
      "source": [
        "### Problem Formulation"
      ]
    },
    {
      "cell_type": "markdown",
      "metadata": {
        "id": "d2o53-ZQA-RJ"
      },
      "source": [
        "This project aims to apply Clustering based on features such as Energy, loudness and danceability. These insights in future will help the creation of personalized music recommendations tailored to individual emotional needs, enhancing the effectiveness of music-based interventions."
      ]
    },
    {
      "cell_type": "code",
      "source": [
        "!pip install kneed"
      ],
      "metadata": {
        "colab": {
          "base_uri": "https://localhost:8080/"
        },
        "id": "4D-8wUhjBuWm",
        "outputId": "0029ffae-5568-4ad6-d33e-a823c8321d6a"
      },
      "execution_count": 138,
      "outputs": [
        {
          "output_type": "stream",
          "name": "stdout",
          "text": [
            "Requirement already satisfied: kneed in /usr/local/lib/python3.10/dist-packages (0.8.5)\n",
            "Requirement already satisfied: numpy>=1.14.2 in /usr/local/lib/python3.10/dist-packages (from kneed) (1.26.4)\n",
            "Requirement already satisfied: scipy>=1.0.0 in /usr/local/lib/python3.10/dist-packages (from kneed) (1.13.1)\n"
          ]
        }
      ]
    },
    {
      "cell_type": "markdown",
      "metadata": {
        "id": "Y30gLICQA-RK"
      },
      "source": [
        "### Importing libraries and tools"
      ]
    },
    {
      "cell_type": "code",
      "execution_count": 139,
      "metadata": {
        "id": "kgiqTedhA-RK"
      },
      "outputs": [],
      "source": [
        "import pandas as pd\n",
        "import numpy as np\n",
        "from sklearn.metrics import pairwise_distances\n",
        "from sklearn.preprocessing import RobustScaler, MinMaxScaler\n",
        "from sklearn.cluster import KMeans\n",
        "import matplotlib.pyplot as plt\n",
        "import seaborn as sns\n",
        "from sklearn.metrics import davies_bouldin_score\n",
        "from sklearn.metrics import calinski_harabasz_score\n",
        "from sklearn.cluster import DBSCAN\n",
        "from sklearn.metrics import silhouette_score\n",
        "from kneed import KneeLocator\n",
        "from sklearn.decomposition import PCA\n",
        "from sklearn.cluster import AgglomerativeClustering\n",
        "import matplotlib.pyplot as plt\n",
        "from scipy.cluster.hierarchy import dendrogram, linkage"
      ]
    },
    {
      "cell_type": "markdown",
      "metadata": {
        "id": "yyIab5XvA-RL"
      },
      "source": [
        "## Data Preprocessing"
      ]
    },
    {
      "cell_type": "code",
      "execution_count": 140,
      "metadata": {
        "id": "N75wcsTRA-RL"
      },
      "outputs": [],
      "source": [
        "def prepare_df(csv_file):\n",
        "    df = pd.read_csv(csv_file)\n",
        "    df_main = df.copy()\n",
        "    df_main.columns = [x.strip() for x in df_main.columns]\n",
        "    df_main = df_main.set_index(['name','artist'])\n",
        "    df_main = df_main.drop(columns=['key','duration_ms','type', 'id', 'html','Unnamed: 0'])\n",
        "    return df_main"
      ]
    },
    {
      "cell_type": "code",
      "execution_count": 141,
      "metadata": {
        "id": "5y-ftRArA-RM"
      },
      "outputs": [],
      "source": [
        "df = prepare_df('/content/df_audio_features_5000.xls')"
      ]
    },
    {
      "cell_type": "code",
      "execution_count": 142,
      "metadata": {
        "colab": {
          "base_uri": "https://localhost:8080/"
        },
        "id": "DDYVmhkbA-RM",
        "outputId": "2c430996-e619-4661-8327-a61af8ca2f6a"
      },
      "outputs": [
        {
          "output_type": "execute_result",
          "data": {
            "text/plain": [
              "(5235, 11)"
            ]
          },
          "metadata": {},
          "execution_count": 142
        }
      ],
      "source": [
        "df.shape"
      ]
    },
    {
      "cell_type": "code",
      "execution_count": 143,
      "metadata": {
        "colab": {
          "base_uri": "https://localhost:8080/"
        },
        "id": "1bkwbGHeA-RN",
        "outputId": "154e6c54-c52c-43af-f799-e7e6bb2fe310"
      },
      "outputs": [
        {
          "output_type": "stream",
          "name": "stdout",
          "text": [
            "<class 'pandas.core.frame.DataFrame'>\n",
            "MultiIndex: 5235 entries, ('Se Eu Quiser Falar Com Deus                                                                                                                                                      ', 'Gilberto Gil                                    ') to ('Ravel: Boléro, M. 81                                                                                                                                                           ', 'Maurice Ravel                                   ')\n",
            "Data columns (total 11 columns):\n",
            " #   Column            Non-Null Count  Dtype  \n",
            "---  ------            --------------  -----  \n",
            " 0   danceability      5235 non-null   float64\n",
            " 1   energy            5235 non-null   float64\n",
            " 2   loudness          5235 non-null   float64\n",
            " 3   mode              5235 non-null   int64  \n",
            " 4   speechiness       5235 non-null   float64\n",
            " 5   acousticness      5235 non-null   float64\n",
            " 6   instrumentalness  5235 non-null   float64\n",
            " 7   liveness          5235 non-null   float64\n",
            " 8   valence           5235 non-null   float64\n",
            " 9   tempo             5235 non-null   float64\n",
            " 10  time_signature    5235 non-null   int64  \n",
            "dtypes: float64(9), int64(2)\n",
            "memory usage: 720.2+ KB\n"
          ]
        }
      ],
      "source": [
        "df.info()"
      ]
    },
    {
      "cell_type": "markdown",
      "metadata": {
        "id": "Wf5PntBOA-RN"
      },
      "source": [
        "### Exploratory Data Analysis"
      ]
    },
    {
      "cell_type": "code",
      "execution_count": null,
      "metadata": {
        "colab": {
          "base_uri": "https://localhost:8080/",
          "height": 851
        },
        "id": "sXp4sQf9A-RN",
        "outputId": "6d2dfe2d-8cfd-4b0d-f035-9058514d2865"
      },
      "outputs": [
        {
          "output_type": "display_data",
          "data": {
            "text/plain": [
              "<Figure size 2000x1500 with 10 Axes>"
            ],
            "image/png": "[encoded data removed]"
          },
          "metadata": {}
        }
      ],
      "source": [
        "columns = ['danceability', 'energy', 'loudness', 'mode', 'speechiness',\n",
        "           'acousticness', 'instrumentalness', 'liveness', 'valence',\n",
        "           'tempo']\n",
        "\n",
        "n_rows = 5\n",
        "n_cols = 2\n",
        "\n",
        "fig, axes = plt.subplots(n_rows, n_cols, figsize=(20, 15))\n",
        "axes = axes.flatten()\n",
        "\n",
        "for i, col in enumerate(columns):\n",
        "    if i < len(columns):\n",
        "        df.boxplot(column=col, ax=axes[i], color='#00BFA5', patch_artist=True,\n",
        "                   boxprops=dict(facecolor='#00BFA5', color='#1C1C1C'),\n",
        "                   whiskerprops=dict(color='#1C1C1C'),\n",
        "                   capprops=dict(color='#1C1C1C'),\n",
        "                   flierprops=dict(markerfacecolor='#FF5733', marker='o', markersize=7),\n",
        "                   medianprops=dict(color='#C70039', linewidth=2))\n",
        "        axes[i].set_title(col, fontsize=16, fontweight='bold', color='#1C1C1C')\n",
        "        axes[i].tick_params(axis='both', labelsize=12, colors='#1C1C1C')\n",
        "        axes[i].set_xlabel('', fontsize=12, color='#1C1C1C')\n",
        "        axes[i].set_ylabel('Value', fontsize=12, color='#1C1C1C')\n",
        "        axes[i].grid(True, linestyle='--', alpha=0.7)\n",
        "    else:\n",
        "        axes[i].axis('off')\n",
        "\n",
        "plt.tight_layout()\n",
        "plt.show()"
      ]
    },
    {
      "cell_type": "markdown",
      "metadata": {
        "id": "s6IYPdAWA-RN"
      },
      "source": [
        "Features such as danceability, energy, and mode show less variability, indicating consistency across tracks.\n",
        "Loudness, speechiness, and liveness display significant outliers, which could represent niche or uncommon tracks.\n",
        "The data indicates a mix of studio-recorded tracks with occasional live or experimental tracks (high instrumentalness or liveness)."
      ]
    },
    {
      "cell_type": "markdown",
      "metadata": {
        "id": "8-QzEY_LA-RO"
      },
      "source": [
        "Seperating data for minmax Scaler"
      ]
    },
    {
      "cell_type": "code",
      "execution_count": null,
      "metadata": {
        "id": "P7yLrrkfA-RO"
      },
      "outputs": [],
      "source": [
        "df_minmax = df[['danceability', 'mode','acousticness', 'instrumentalness','energy','valence']]"
      ]
    },
    {
      "cell_type": "markdown",
      "metadata": {
        "id": "3Q13tMyyA-RO"
      },
      "source": [
        "Seprating data for robust scaler"
      ]
    },
    {
      "cell_type": "code",
      "execution_count": null,
      "metadata": {
        "id": "HUCLpdZIA-RO"
      },
      "outputs": [],
      "source": [
        "df_robust = df[list(set(df.columns) - set(df_minmax.columns))]"
      ]
    },
    {
      "cell_type": "code",
      "execution_count": null,
      "metadata": {
        "colab": {
          "base_uri": "https://localhost:8080/",
          "height": 507
        },
        "id": "6iPgnTDSA-RO",
        "outputId": "3b9db04d-a757-48c1-ec0c-cc8e4589e233"
      },
      "outputs": [
        {
          "output_type": "execute_result",
          "data": {
            "text/plain": [
              "                                                                                                       tempo  \\\n",
              "name                                               artist                                                      \n",
              "Se Eu Quiser Falar Com Deus                    ... Gilberto Gil                                      110.376   \n",
              "Saudade De Bahia                               ... Antônio Carlos Jobim                              125.039   \n",
              "Canta Canta, Minha Gente                       ... Martinho Da Vila                                   93.698   \n",
              "Mulher Eu Sei                                  ... Chico César                                       106.802   \n",
              "Rosa Morena                                    ... Kurt Elling                                       120.941   \n",
              "...                                                                                                      ...   \n",
              "1812 Festival Overture, Op. 49: 1812 Overture, ... Pyotr Ilyich Tchaikovsky                           87.906   \n",
              "Winter Fragments pour ensemble instrumental, so... Tristan Murail                                     83.134   \n",
              "Schoenberg: 5 Orchestral Pieces, Op. 16: No. 3 ... Arnold Schoenberg                                  71.573   \n",
              "Serenade For Strings In E, Op.22, B. 52: 1. Mod... Antonín Dvořák                                     67.109   \n",
              "Ravel: Boléro, M. 81                           ... Maurice Ravel                                      64.120   \n",
              "\n",
              "                                                                                                     liveness  \\\n",
              "name                                               artist                                                       \n",
              "Se Eu Quiser Falar Com Deus                    ... Gilberto Gil                                        0.9750   \n",
              "Saudade De Bahia                               ... Antônio Carlos Jobim                                0.1070   \n",
              "Canta Canta, Minha Gente                       ... Martinho Da Vila                                    0.1240   \n",
              "Mulher Eu Sei                                  ... Chico César                                         0.3860   \n",
              "Rosa Morena                                    ... Kurt Elling                                         0.1040   \n",
              "...                                                                                                       ...   \n",
              "1812 Festival Overture, Op. 49: 1812 Overture, ... Pyotr Ilyich Tchaikovsky                            0.0832   \n",
              "Winter Fragments pour ensemble instrumental, so... Tristan Murail                                      0.0694   \n",
              "Schoenberg: 5 Orchestral Pieces, Op. 16: No. 3 ... Arnold Schoenberg                                   0.0772   \n",
              "Serenade For Strings In E, Op.22, B. 52: 1. Mod... Antonín Dvořák                                      0.1110   \n",
              "Ravel: Boléro, M. 81                           ... Maurice Ravel                                       0.2840   \n",
              "\n",
              "                                                                                                     loudness  \\\n",
              "name                                               artist                                                       \n",
              "Se Eu Quiser Falar Com Deus                    ... Gilberto Gil                                       -13.141   \n",
              "Saudade De Bahia                               ... Antônio Carlos Jobim                               -12.646   \n",
              "Canta Canta, Minha Gente                       ... Martinho Da Vila                                   -11.048   \n",
              "Mulher Eu Sei                                  ... Chico César                                        -18.115   \n",
              "Rosa Morena                                    ... Kurt Elling                                        -19.807   \n",
              "...                                                                                                       ...   \n",
              "1812 Festival Overture, Op. 49: 1812 Overture, ... Pyotr Ilyich Tchaikovsky                           -23.390   \n",
              "Winter Fragments pour ensemble instrumental, so... Tristan Murail                                     -21.873   \n",
              "Schoenberg: 5 Orchestral Pieces, Op. 16: No. 3 ... Arnold Schoenberg                                  -42.959   \n",
              "Serenade For Strings In E, Op.22, B. 52: 1. Mod... Antonín Dvořák                                     -29.443   \n",
              "Ravel: Boléro, M. 81                           ... Maurice Ravel                                      -24.568   \n",
              "\n",
              "                                                                                                     time_signature  \\\n",
              "name                                               artist                                                             \n",
              "Se Eu Quiser Falar Com Deus                    ... Gilberto Gil                                                   4   \n",
              "Saudade De Bahia                               ... Antônio Carlos Jobim                                           4   \n",
              "Canta Canta, Minha Gente                       ... Martinho Da Vila                                               4   \n",
              "Mulher Eu Sei                                  ... Chico César                                                    4   \n",
              "Rosa Morena                                    ... Kurt Elling                                                    4   \n",
              "...                                                                                                             ...   \n",
              "1812 Festival Overture, Op. 49: 1812 Overture, ... Pyotr Ilyich Tchaikovsky                                       4   \n",
              "Winter Fragments pour ensemble instrumental, so... Tristan Murail                                                 4   \n",
              "Schoenberg: 5 Orchestral Pieces, Op. 16: No. 3 ... Arnold Schoenberg                                              3   \n",
              "Serenade For Strings In E, Op.22, B. 52: 1. Mod... Antonín Dvořák                                                 4   \n",
              "Ravel: Boléro, M. 81                           ... Maurice Ravel                                                  3   \n",
              "\n",
              "                                                                                                     speechiness  \n",
              "name                                               artist                                                         \n",
              "Se Eu Quiser Falar Com Deus                    ... Gilberto Gil                                           0.0705  \n",
              "Saudade De Bahia                               ... Antônio Carlos Jobim                                   0.0346  \n",
              "Canta Canta, Minha Gente                       ... Martinho Da Vila                                       0.3470  \n",
              "Mulher Eu Sei                                  ... Chico César                                            0.0471  \n",
              "Rosa Morena                                    ... Kurt Elling                                            0.0380  \n",
              "...                                                                                                          ...  \n",
              "1812 Festival Overture, Op. 49: 1812 Overture, ... Pyotr Ilyich Tchaikovsky                               0.0473  \n",
              "Winter Fragments pour ensemble instrumental, so... Tristan Murail                                         0.0442  \n",
              "Schoenberg: 5 Orchestral Pieces, Op. 16: No. 3 ... Arnold Schoenberg                                      0.0434  \n",
              "Serenade For Strings In E, Op.22, B. 52: 1. Mod... Antonín Dvořák                                         0.0419  \n",
              "Ravel: Boléro, M. 81                           ... Maurice Ravel                                          0.0323  \n",
              "\n",
              "[5235 rows x 5 columns]"
            ],
            "text/html": [
              "\n",
              "  <div id=\"df-1a809a00-e689-4a5d-9e0d-ec8d64211faf\" class=\"colab-df-container\">\n",
              "    <div>\n",
              "<style scoped>\n",
              "    .dataframe tbody tr th:only-of-type {\n",
              "        vertical-align: middle;\n",
              "    }\n",
              "\n",
              "    .dataframe tbody tr th {\n",
              "        vertical-align: top;\n",
              "    }\n",
              "\n",
              "    .dataframe thead th {\n",
              "        text-align: right;\n",
              "    }\n",
              "</style>\n",
              "<table border=\"1\" class=\"dataframe\">\n",
              "  <thead>\n",
              "    <tr style=\"text-align: right;\">\n",
              "      <th></th>\n",
              "      <th></th>\n",
              "      <th>tempo</th>\n",
              "      <th>liveness</th>\n",
              "      <th>loudness</th>\n",
              "      <th>time_signature</th>\n",
              "      <th>speechiness</th>\n",
              "    </tr>\n",
              "    <tr>\n",
              "      <th>name</th>\n",
              "      <th>artist</th>\n",
              "      <th></th>\n",
              "      <th></th>\n",
              "      <th></th>\n",
              "      <th></th>\n",
              "      <th></th>\n",
              "    </tr>\n",
              "  </thead>\n",
              "  <tbody>\n",
              "    <tr>\n",
              "      <th>Se Eu Quiser Falar Com Deus</th>\n",
              "      <th>Gilberto Gil</th>\n",
              "      <td>110.376</td>\n",
              "      <td>0.9750</td>\n",
              "      <td>-13.141</td>\n",
              "      <td>4</td>\n",
              "      <td>0.0705</td>\n",
              "    </tr>\n",
              "    <tr>\n",
              "      <th>Saudade De Bahia</th>\n",
              "      <th>Antônio Carlos Jobim</th>\n",
              "      <td>125.039</td>\n",
              "      <td>0.1070</td>\n",
              "      <td>-12.646</td>\n",
              "      <td>4</td>\n",
              "      <td>0.0346</td>\n",
              "    </tr>\n",
              "    <tr>\n",
              "      <th>Canta Canta, Minha Gente</th>\n",
              "      <th>Martinho Da Vila</th>\n",
              "      <td>93.698</td>\n",
              "      <td>0.1240</td>\n",
              "      <td>-11.048</td>\n",
              "      <td>4</td>\n",
              "      <td>0.3470</td>\n",
              "    </tr>\n",
              "    <tr>\n",
              "      <th>Mulher Eu Sei</th>\n",
              "      <th>Chico César</th>\n",
              "      <td>106.802</td>\n",
              "      <td>0.3860</td>\n",
              "      <td>-18.115</td>\n",
              "      <td>4</td>\n",
              "      <td>0.0471</td>\n",
              "    </tr>\n",
              "    <tr>\n",
              "      <th>Rosa Morena</th>\n",
              "      <th>Kurt Elling</th>\n",
              "      <td>120.941</td>\n",
              "      <td>0.1040</td>\n",
              "      <td>-19.807</td>\n",
              "      <td>4</td>\n",
              "      <td>0.0380</td>\n",
              "    </tr>\n",
              "    <tr>\n",
              "      <th>...</th>\n",
              "      <th>...</th>\n",
              "      <td>...</td>\n",
              "      <td>...</td>\n",
              "      <td>...</td>\n",
              "      <td>...</td>\n",
              "      <td>...</td>\n",
              "    </tr>\n",
              "    <tr>\n",
              "      <th>1812 Festival Overture, Op. 49: 1812 Overture, Op. 49</th>\n",
              "      <th>Pyotr Ilyich Tchaikovsky</th>\n",
              "      <td>87.906</td>\n",
              "      <td>0.0832</td>\n",
              "      <td>-23.390</td>\n",
              "      <td>4</td>\n",
              "      <td>0.0473</td>\n",
              "    </tr>\n",
              "    <tr>\n",
              "      <th>Winter Fragments pour ensemble instrumental, sons de synthèse et dispositif électronique</th>\n",
              "      <th>Tristan Murail</th>\n",
              "      <td>83.134</td>\n",
              "      <td>0.0694</td>\n",
              "      <td>-21.873</td>\n",
              "      <td>4</td>\n",
              "      <td>0.0442</td>\n",
              "    </tr>\n",
              "    <tr>\n",
              "      <th>Schoenberg: 5 Orchestral Pieces, Op. 16: No. 3 Farben (Colours)</th>\n",
              "      <th>Arnold Schoenberg</th>\n",
              "      <td>71.573</td>\n",
              "      <td>0.0772</td>\n",
              "      <td>-42.959</td>\n",
              "      <td>3</td>\n",
              "      <td>0.0434</td>\n",
              "    </tr>\n",
              "    <tr>\n",
              "      <th>Serenade For Strings In E, Op.22, B. 52: 1. Moderato</th>\n",
              "      <th>Antonín Dvořák</th>\n",
              "      <td>67.109</td>\n",
              "      <td>0.1110</td>\n",
              "      <td>-29.443</td>\n",
              "      <td>4</td>\n",
              "      <td>0.0419</td>\n",
              "    </tr>\n",
              "    <tr>\n",
              "      <th>Ravel: Boléro, M. 81</th>\n",
              "      <th>Maurice Ravel</th>\n",
              "      <td>64.120</td>\n",
              "      <td>0.2840</td>\n",
              "      <td>-24.568</td>\n",
              "      <td>3</td>\n",
              "      <td>0.0323</td>\n",
              "    </tr>\n",
              "  </tbody>\n",
              "</table>\n",
              "<p>5235 rows × 5 columns</p>\n",
              "</div>\n",
              "    <div class=\"colab-df-buttons\">\n",
              "\n",
              "  <div class=\"colab-df-container\">\n",
              "    <button class=\"colab-df-convert\" onclick=\"convertToInteractive('df-1a809a00-e689-4a5d-9e0d-ec8d64211faf')\"\n",
              "            title=\"Convert this dataframe to an interactive table.\"\n",
              "            style=\"display:none;\">\n",
              "\n",
              "  <svg xmlns=\"http://www.w3.org/2000/svg\" height=\"24px\" viewBox=\"0 -960 960 960\">\n",
              "    <path d=\"M120-120v-720h720v720H120Zm60-500h600v-160H180v160Zm220 220h160v-160H400v160Zm0 220h160v-160H400v160ZM180-400h160v-160H180v160Zm440 0h160v-160H620v160ZM180-180h160v-160H180v160Zm440 0h160v-160H620v160Z\"/>\n",
              "  </svg>\n",
              "    </button>\n",
              "\n",
              "  <style>\n",
              "    .colab-df-container {\n",
              "      display:flex;\n",
              "      gap: 12px;\n",
              "    }\n",
              "\n",
              "    .colab-df-convert {\n",
              "      background-color: #E8F0FE;\n",
              "      border: none;\n",
              "      border-radius: 50%;\n",
              "      cursor: pointer;\n",
              "      display: none;\n",
              "      fill: #1967D2;\n",
              "      height: 32px;\n",
              "      padding: 0 0 0 0;\n",
              "      width: 32px;\n",
              "    }\n",
              "\n",
              "    .colab-df-convert:hover {\n",
              "      background-color: #E2EBFA;\n",
              "      box-shadow: 0px 1px 2px rgba(60, 64, 67, 0.3), 0px 1px 3px 1px rgba(60, 64, 67, 0.15);\n",
              "      fill: #174EA6;\n",
              "    }\n",
              "\n",
              "    .colab-df-buttons div {\n",
              "      margin-bottom: 4px;\n",
              "    }\n",
              "\n",
              "    [theme=dark] .colab-df-convert {\n",
              "      background-color: #3B4455;\n",
              "      fill: #D2E3FC;\n",
              "    }\n",
              "\n",
              "    [theme=dark] .colab-df-convert:hover {\n",
              "      background-color: #434B5C;\n",
              "      box-shadow: 0px 1px 3px 1px rgba(0, 0, 0, 0.15);\n",
              "      filter: drop-shadow(0px 1px 2px rgba(0, 0, 0, 0.3));\n",
              "      fill: #FFFFFF;\n",
              "    }\n",
              "  </style>\n",
              "\n",
              "    <script>\n",
              "      const buttonEl =\n",
              "        document.querySelector('#df-1a809a00-e689-4a5d-9e0d-ec8d64211faf button.colab-df-convert');\n",
              "      buttonEl.style.display =\n",
              "        google.colab.kernel.accessAllowed ? 'block' : 'none';\n",
              "\n",
              "      async function convertToInteractive(key) {\n",
              "        const element = document.querySelector('#df-1a809a00-e689-4a5d-9e0d-ec8d64211faf');\n",
              "        const dataTable =\n",
              "          await google.colab.kernel.invokeFunction('convertToInteractive',\n",
              "                                                    [key], {});\n",
              "        if (!dataTable) return;\n",
              "\n",
              "        const docLinkHtml = 'Like what you see? Visit the ' +\n",
              "          '<a target=\"_blank\" href=https://colab.research.google.com/notebooks/data_table.ipynb>data table notebook</a>'\n",
              "          + ' to learn more about interactive tables.';\n",
              "        element.innerHTML = '';\n",
              "        dataTable['output_type'] = 'display_data';\n",
              "        await google.colab.output.renderOutput(dataTable, element);\n",
              "        const docLink = document.createElement('div');\n",
              "        docLink.innerHTML = docLinkHtml;\n",
              "        element.appendChild(docLink);\n",
              "      }\n",
              "    </script>\n",
              "  </div>\n",
              "\n",
              "\n",
              "<div id=\"df-9ed56510-43bf-4231-8cc1-bdca7a03f97a\">\n",
              "  <button class=\"colab-df-quickchart\" onclick=\"quickchart('df-9ed56510-43bf-4231-8cc1-bdca7a03f97a')\"\n",
              "            title=\"Suggest charts\"\n",
              "            style=\"display:none;\">\n",
              "\n",
              "<svg xmlns=\"http://www.w3.org/2000/svg\" height=\"24px\"viewBox=\"0 0 24 24\"\n",
              "     width=\"24px\">\n",
              "    <g>\n",
              "        <path d=\"M19 3H5c-1.1 0-2 .9-2 2v14c0 1.1.9 2 2 2h14c1.1 0 2-.9 2-2V5c0-1.1-.9-2-2-2zM9 17H7v-7h2v7zm4 0h-2V7h2v10zm4 0h-2v-4h2v4z\"/>\n",
              "    </g>\n",
              "</svg>\n",
              "  </button>\n",
              "\n",
              "<style>\n",
              "  .colab-df-quickchart {\n",
              "      --bg-color: #E8F0FE;\n",
              "      --fill-color: #1967D2;\n",
              "      --hover-bg-color: #E2EBFA;\n",
              "      --hover-fill-color: #174EA6;\n",
              "      --disabled-fill-color: #AAA;\n",
              "      --disabled-bg-color: #DDD;\n",
              "  }\n",
              "\n",
              "  [theme=dark] .colab-df-quickchart {\n",
              "      --bg-color: #3B4455;\n",
              "      --fill-color: #D2E3FC;\n",
              "      --hover-bg-color: #434B5C;\n",
              "      --hover-fill-color: #FFFFFF;\n",
              "      --disabled-bg-color: #3B4455;\n",
              "      --disabled-fill-color: #666;\n",
              "  }\n",
              "\n",
              "  .colab-df-quickchart {\n",
              "    background-color: var(--bg-color);\n",
              "    border: none;\n",
              "    border-radius: 50%;\n",
              "    cursor: pointer;\n",
              "    display: none;\n",
              "    fill: var(--fill-color);\n",
              "    height: 32px;\n",
              "    padding: 0;\n",
              "    width: 32px;\n",
              "  }\n",
              "\n",
              "  .colab-df-quickchart:hover {\n",
              "    background-color: var(--hover-bg-color);\n",
              "    box-shadow: 0 1px 2px rgba(60, 64, 67, 0.3), 0 1px 3px 1px rgba(60, 64, 67, 0.15);\n",
              "    fill: var(--button-hover-fill-color);\n",
              "  }\n",
              "\n",
              "  .colab-df-quickchart-complete:disabled,\n",
              "  .colab-df-quickchart-complete:disabled:hover {\n",
              "    background-color: var(--disabled-bg-color);\n",
              "    fill: var(--disabled-fill-color);\n",
              "    box-shadow: none;\n",
              "  }\n",
              "\n",
              "  .colab-df-spinner {\n",
              "    border: 2px solid var(--fill-color);\n",
              "    border-color: transparent;\n",
              "    border-bottom-color: var(--fill-color);\n",
              "    animation:\n",
              "      spin 1s steps(1) infinite;\n",
              "  }\n",
              "\n",
              "  @keyframes spin {\n",
              "    0% {\n",
              "      border-color: transparent;\n",
              "      border-bottom-color: var(--fill-color);\n",
              "      border-left-color: var(--fill-color);\n",
              "    }\n",
              "    20% {\n",
              "      border-color: transparent;\n",
              "      border-left-color: var(--fill-color);\n",
              "      border-top-color: var(--fill-color);\n",
              "    }\n",
              "    30% {\n",
              "      border-color: transparent;\n",
              "      border-left-color: var(--fill-color);\n",
              "      border-top-color: var(--fill-color);\n",
              "      border-right-color: var(--fill-color);\n",
              "    }\n",
              "    40% {\n",
              "      border-color: transparent;\n",
              "      border-right-color: var(--fill-color);\n",
              "      border-top-color: var(--fill-color);\n",
              "    }\n",
              "    60% {\n",
              "      border-color: transparent;\n",
              "      border-right-color: var(--fill-color);\n",
              "    }\n",
              "    80% {\n",
              "      border-color: transparent;\n",
              "      border-right-color: var(--fill-color);\n",
              "      border-bottom-color: var(--fill-color);\n",
              "    }\n",
              "    90% {\n",
              "      border-color: transparent;\n",
              "      border-bottom-color: var(--fill-color);\n",
              "    }\n",
              "  }\n",
              "</style>\n",
              "\n",
              "  <script>\n",
              "    async function quickchart(key) {\n",
              "      const quickchartButtonEl =\n",
              "        document.querySelector('#' + key + ' button');\n",
              "      quickchartButtonEl.disabled = true;  // To prevent multiple clicks.\n",
              "      quickchartButtonEl.classList.add('colab-df-spinner');\n",
              "      try {\n",
              "        const charts = await google.colab.kernel.invokeFunction(\n",
              "            'suggestCharts', [key], {});\n",
              "      } catch (error) {\n",
              "        console.error('Error during call to suggestCharts:', error);\n",
              "      }\n",
              "      quickchartButtonEl.classList.remove('colab-df-spinner');\n",
              "      quickchartButtonEl.classList.add('colab-df-quickchart-complete');\n",
              "    }\n",
              "    (() => {\n",
              "      let quickchartButtonEl =\n",
              "        document.querySelector('#df-9ed56510-43bf-4231-8cc1-bdca7a03f97a button');\n",
              "      quickchartButtonEl.style.display =\n",
              "        google.colab.kernel.accessAllowed ? 'block' : 'none';\n",
              "    })();\n",
              "  </script>\n",
              "</div>\n",
              "\n",
              "  <div id=\"id_a742f662-f74f-46d7-9c1a-87a178e916d6\">\n",
              "    <style>\n",
              "      .colab-df-generate {\n",
              "        background-color: #E8F0FE;\n",
              "        border: none;\n",
              "        border-radius: 50%;\n",
              "        cursor: pointer;\n",
              "        display: none;\n",
              "        fill: #1967D2;\n",
              "        height: 32px;\n",
              "        padding: 0 0 0 0;\n",
              "        width: 32px;\n",
              "      }\n",
              "\n",
              "      .colab-df-generate:hover {\n",
              "        background-color: #E2EBFA;\n",
              "        box-shadow: 0px 1px 2px rgba(60, 64, 67, 0.3), 0px 1px 3px 1px rgba(60, 64, 67, 0.15);\n",
              "        fill: #174EA6;\n",
              "      }\n",
              "\n",
              "      [theme=dark] .colab-df-generate {\n",
              "        background-color: #3B4455;\n",
              "        fill: #D2E3FC;\n",
              "      }\n",
              "\n",
              "      [theme=dark] .colab-df-generate:hover {\n",
              "        background-color: #434B5C;\n",
              "        box-shadow: 0px 1px 3px 1px rgba(0, 0, 0, 0.15);\n",
              "        filter: drop-shadow(0px 1px 2px rgba(0, 0, 0, 0.3));\n",
              "        fill: #FFFFFF;\n",
              "      }\n",
              "    </style>\n",
              "    <button class=\"colab-df-generate\" onclick=\"generateWithVariable('df_robust')\"\n",
              "            title=\"Generate code using this dataframe.\"\n",
              "            style=\"display:none;\">\n",
              "\n",
              "  <svg xmlns=\"http://www.w3.org/2000/svg\" height=\"24px\"viewBox=\"0 0 24 24\"\n",
              "       width=\"24px\">\n",
              "    <path d=\"M7,19H8.4L18.45,9,17,7.55,7,17.6ZM5,21V16.75L18.45,3.32a2,2,0,0,1,2.83,0l1.4,1.43a1.91,1.91,0,0,1,.58,1.4,1.91,1.91,0,0,1-.58,1.4L9.25,21ZM18.45,9,17,7.55Zm-12,3A5.31,5.31,0,0,0,4.9,8.1,5.31,5.31,0,0,0,1,6.5,5.31,5.31,0,0,0,4.9,4.9,5.31,5.31,0,0,0,6.5,1,5.31,5.31,0,0,0,8.1,4.9,5.31,5.31,0,0,0,12,6.5,5.46,5.46,0,0,0,6.5,12Z\"/>\n",
              "  </svg>\n",
              "    </button>\n",
              "    <script>\n",
              "      (() => {\n",
              "      const buttonEl =\n",
              "        document.querySelector('#id_a742f662-f74f-46d7-9c1a-87a178e916d6 button.colab-df-generate');\n",
              "      buttonEl.style.display =\n",
              "        google.colab.kernel.accessAllowed ? 'block' : 'none';\n",
              "\n",
              "      buttonEl.onclick = () => {\n",
              "        google.colab.notebook.generateWithVariable('df_robust');\n",
              "      }\n",
              "      })();\n",
              "    </script>\n",
              "  </div>\n",
              "\n",
              "    </div>\n",
              "  </div>\n"
            ],
            "application/vnd.google.colaboratory.intrinsic+json": {
              "type": "dataframe",
              "variable_name": "df_robust",
              "summary": "{\n  \"name\": \"df_robust\",\n  \"rows\": 5235,\n  \"fields\": [\n    {\n      \"column\": \"tempo\",\n      \"properties\": {\n        \"dtype\": \"number\",\n        \"std\": 28.568463441414927,\n        \"min\": 0.0,\n        \"max\": 213.99,\n        \"num_unique_values\": 4824,\n        \"samples\": [\n          88.194,\n          149.91,\n          94.759\n        ],\n        \"semantic_type\": \"\",\n        \"description\": \"\"\n      }\n    },\n    {\n      \"column\": \"liveness\",\n      \"properties\": {\n        \"dtype\": \"number\",\n        \"std\": 0.14940979724578315,\n        \"min\": 0.0,\n        \"max\": 0.987,\n        \"num_unique_values\": 1128,\n        \"samples\": [\n          0.445,\n          0.0636,\n          0.0956\n        ],\n        \"semantic_type\": \"\",\n        \"description\": \"\"\n      }\n    },\n    {\n      \"column\": \"loudness\",\n      \"properties\": {\n        \"dtype\": \"number\",\n        \"std\": 6.294850141279967,\n        \"min\": -60.0,\n        \"max\": 1.342,\n        \"num_unique_values\": 4310,\n        \"samples\": [\n          -14.164,\n          -6.808,\n          -15.421\n        ],\n        \"semantic_type\": \"\",\n        \"description\": \"\"\n      }\n    },\n    {\n      \"column\": \"time_signature\",\n      \"properties\": {\n        \"dtype\": \"number\",\n        \"std\": 0,\n        \"min\": 0,\n        \"max\": 5,\n        \"num_unique_values\": 5,\n        \"samples\": [\n          3,\n          0,\n          5\n        ],\n        \"semantic_type\": \"\",\n        \"description\": \"\"\n      }\n    },\n    {\n      \"column\": \"speechiness\",\n      \"properties\": {\n        \"dtype\": \"number\",\n        \"std\": 0.07119318214920843,\n        \"min\": 0.0,\n        \"max\": 0.918,\n        \"num_unique_values\": 1001,\n        \"samples\": [\n          0.0636,\n          0.0679,\n          0.307\n        ],\n        \"semantic_type\": \"\",\n        \"description\": \"\"\n      }\n    }\n  ]\n}"
            }
          },
          "metadata": {},
          "execution_count": 110
        }
      ],
      "source": [
        "df_robust"
      ]
    },
    {
      "cell_type": "markdown",
      "metadata": {
        "id": "94rTubzSA-RO"
      },
      "source": [
        "Transforming data"
      ]
    },
    {
      "cell_type": "code",
      "execution_count": null,
      "metadata": {
        "id": "6uXqzGdNA-RP"
      },
      "outputs": [],
      "source": [
        "def preprocessing_minmax(df):\n",
        "    transformer = MinMaxScaler()\n",
        "    transformer.fit(df)\n",
        "    normal_df = transformer.transform(df)\n",
        "    normal_df = pd.DataFrame(normal_df, index=df.index, columns=df.columns)\n",
        "    return normal_df"
      ]
    },
    {
      "cell_type": "code",
      "execution_count": null,
      "metadata": {
        "id": "yoi6kpHIA-RP"
      },
      "outputs": [],
      "source": [
        "minmax_df = preprocessing_minmax(df_minmax)"
      ]
    },
    {
      "cell_type": "code",
      "execution_count": null,
      "metadata": {
        "id": "XUKZ_A11A-RP"
      },
      "outputs": [],
      "source": [
        "def preprocessing_robust(df):\n",
        "    transformer = RobustScaler()\n",
        "    transformer.fit(df)\n",
        "    robust_df = transformer.transform(df)\n",
        "    robust_df = pd.DataFrame(robust_df, index=df.index, columns=df.columns)\n",
        "    return robust_df\n"
      ]
    },
    {
      "cell_type": "code",
      "execution_count": null,
      "metadata": {
        "id": "G1uep98gA-RP"
      },
      "outputs": [],
      "source": [
        "robust_df = preprocessing_robust(df_robust)"
      ]
    },
    {
      "cell_type": "markdown",
      "metadata": {
        "id": "IRjh-qFmA-RP"
      },
      "source": [
        "storing prepared dataframe"
      ]
    },
    {
      "cell_type": "code",
      "execution_count": null,
      "metadata": {
        "id": "kOp6lyyLA-RP"
      },
      "outputs": [],
      "source": [
        "scaled_df = pd.concat([minmax_df, robust_df], axis=1)"
      ]
    },
    {
      "cell_type": "code",
      "execution_count": null,
      "metadata": {
        "colab": {
          "base_uri": "https://localhost:8080/",
          "height": 448
        },
        "id": "sT8_DF72A-RP",
        "outputId": "b838c05e-83b5-4bb2-88b9-1e9252a3ad6f"
      },
      "outputs": [
        {
          "output_type": "execute_result",
          "data": {
            "text/plain": [
              "                                                                                                     danceability  \\\n",
              "name                                               artist                                                           \n",
              "Se Eu Quiser Falar Com Deus                    ... Gilberto Gil                                          0.680455   \n",
              "Saudade De Bahia                               ... Antônio Carlos Jobim                                  0.767322   \n",
              "Canta Canta, Minha Gente                       ... Martinho Da Vila                                      0.880041   \n",
              "Mulher Eu Sei                                  ... Chico César                                           0.729059   \n",
              "Rosa Morena                                    ... Kurt Elling                                           0.673216   \n",
              "\n",
              "                                                                                                     mode  \\\n",
              "name                                               artist                                                   \n",
              "Se Eu Quiser Falar Com Deus                    ... Gilberto Gil                                       0.0   \n",
              "Saudade De Bahia                               ... Antônio Carlos Jobim                               1.0   \n",
              "Canta Canta, Minha Gente                       ... Martinho Da Vila                                   1.0   \n",
              "Mulher Eu Sei                                  ... Chico César                                        1.0   \n",
              "Rosa Morena                                    ... Kurt Elling                                        1.0   \n",
              "\n",
              "                                                                                                     acousticness  \\\n",
              "name                                               artist                                                           \n",
              "Se Eu Quiser Falar Com Deus                    ... Gilberto Gil                                          0.696787   \n",
              "Saudade De Bahia                               ... Antônio Carlos Jobim                                  0.217871   \n",
              "Canta Canta, Minha Gente                       ... Martinho Da Vila                                      0.454819   \n",
              "Mulher Eu Sei                                  ... Chico César                                           0.882530   \n",
              "Rosa Morena                                    ... Kurt Elling                                           0.919679   \n",
              "\n",
              "                                                                                                     instrumentalness  \\\n",
              "name                                               artist                                                               \n",
              "Se Eu Quiser Falar Com Deus                    ... Gilberto Gil                                              0.000060   \n",
              "Saudade De Bahia                               ... Antônio Carlos Jobim                                      0.000002   \n",
              "Canta Canta, Minha Gente                       ... Martinho Da Vila                                          0.000064   \n",
              "Mulher Eu Sei                                  ... Chico César                                               0.000041   \n",
              "Rosa Morena                                    ... Kurt Elling                                               0.000348   \n",
              "\n",
              "                                                                                                     energy  \\\n",
              "name                                               artist                                                     \n",
              "Se Eu Quiser Falar Com Deus                    ... Gilberto Gil                                      0.2590   \n",
              "Saudade De Bahia                               ... Antônio Carlos Jobim                              0.3990   \n",
              "Canta Canta, Minha Gente                       ... Martinho Da Vila                                  0.7300   \n",
              "Mulher Eu Sei                                  ... Chico César                                       0.0502   \n",
              "Rosa Morena                                    ... Kurt Elling                                       0.1190   \n",
              "\n",
              "                                                                                                      valence  \\\n",
              "name                                               artist                                                       \n",
              "Se Eu Quiser Falar Com Deus                    ... Gilberto Gil                                      0.310660   \n",
              "Saudade De Bahia                               ... Antônio Carlos Jobim                              0.703553   \n",
              "Canta Canta, Minha Gente                       ... Martinho Da Vila                                  0.918782   \n",
              "Mulher Eu Sei                                  ... Chico César                                       0.531980   \n",
              "Rosa Morena                                    ... Kurt Elling                                       0.408122   \n",
              "\n",
              "                                                                                                        tempo  \\\n",
              "name                                               artist                                                       \n",
              "Se Eu Quiser Falar Com Deus                    ... Gilberto Gil                                     -0.232633   \n",
              "Saudade De Bahia                               ... Antônio Carlos Jobim                              0.154816   \n",
              "Canta Canta, Minha Gente                       ... Martinho Da Vila                                 -0.673325   \n",
              "Mulher Eu Sei                                  ... Chico César                                      -0.327071   \n",
              "Rosa Morena                                    ... Kurt Elling                                       0.046532   \n",
              "\n",
              "                                                                                                     liveness  \\\n",
              "name                                               artist                                                       \n",
              "Se Eu Quiser Falar Com Deus                    ... Gilberto Gil                                      5.882353   \n",
              "Saudade De Bahia                               ... Antônio Carlos Jobim                             -0.124567   \n",
              "Canta Canta, Minha Gente                       ... Martinho Da Vila                                 -0.006920   \n",
              "Mulher Eu Sei                                  ... Chico César                                       1.806228   \n",
              "Rosa Morena                                    ... Kurt Elling                                      -0.145329   \n",
              "\n",
              "                                                                                                     loudness  \\\n",
              "name                                               artist                                                       \n",
              "Se Eu Quiser Falar Com Deus                    ... Gilberto Gil                                     -0.955541   \n",
              "Saudade De Bahia                               ... Antônio Carlos Jobim                             -0.874033   \n",
              "Canta Canta, Minha Gente                       ... Martinho Da Vila                                 -0.610901   \n",
              "Mulher Eu Sei                                  ... Chico César                                      -1.774576   \n",
              "Rosa Morena                                    ... Kurt Elling                                      -2.053186   \n",
              "\n",
              "                                                                                                     time_signature  \\\n",
              "name                                               artist                                                             \n",
              "Se Eu Quiser Falar Com Deus                    ... Gilberto Gil                                                 0.0   \n",
              "Saudade De Bahia                               ... Antônio Carlos Jobim                                         0.0   \n",
              "Canta Canta, Minha Gente                       ... Martinho Da Vila                                             0.0   \n",
              "Mulher Eu Sei                                  ... Chico César                                                  0.0   \n",
              "Rosa Morena                                    ... Kurt Elling                                                  0.0   \n",
              "\n",
              "                                                                                                     speechiness  \n",
              "name                                               artist                                                         \n",
              "Se Eu Quiser Falar Com Deus                    ... Gilberto Gil                                         0.246438  \n",
              "Saudade De Bahia                               ... Antônio Carlos Jobim                                -0.355407  \n",
              "Canta Canta, Minha Gente                       ... Martinho Da Vila                                     4.881811  \n",
              "Mulher Eu Sei                                  ... Chico César                                         -0.145851  \n",
              "Rosa Morena                                    ... Kurt Elling                                         -0.298407  "
            ],
            "text/html": [
              "\n",
              "  <div id=\"df-4b4d8f3e-0c7c-455b-a10d-405f9932abbf\" class=\"colab-df-container\">\n",
              "    <div>\n",
              "<style scoped>\n",
              "    .dataframe tbody tr th:only-of-type {\n",
              "        vertical-align: middle;\n",
              "    }\n",
              "\n",
              "    .dataframe tbody tr th {\n",
              "        vertical-align: top;\n",
              "    }\n",
              "\n",
              "    .dataframe thead th {\n",
              "        text-align: right;\n",
              "    }\n",
              "</style>\n",
              "<table border=\"1\" class=\"dataframe\">\n",
              "  <thead>\n",
              "    <tr style=\"text-align: right;\">\n",
              "      <th></th>\n",
              "      <th></th>\n",
              "      <th>danceability</th>\n",
              "      <th>mode</th>\n",
              "      <th>acousticness</th>\n",
              "      <th>instrumentalness</th>\n",
              "      <th>energy</th>\n",
              "      <th>valence</th>\n",
              "      <th>tempo</th>\n",
              "      <th>liveness</th>\n",
              "      <th>loudness</th>\n",
              "      <th>time_signature</th>\n",
              "      <th>speechiness</th>\n",
              "    </tr>\n",
              "    <tr>\n",
              "      <th>name</th>\n",
              "      <th>artist</th>\n",
              "      <th></th>\n",
              "      <th></th>\n",
              "      <th></th>\n",
              "      <th></th>\n",
              "      <th></th>\n",
              "      <th></th>\n",
              "      <th></th>\n",
              "      <th></th>\n",
              "      <th></th>\n",
              "      <th></th>\n",
              "      <th></th>\n",
              "    </tr>\n",
              "  </thead>\n",
              "  <tbody>\n",
              "    <tr>\n",
              "      <th>Se Eu Quiser Falar Com Deus</th>\n",
              "      <th>Gilberto Gil</th>\n",
              "      <td>0.680455</td>\n",
              "      <td>0.0</td>\n",
              "      <td>0.696787</td>\n",
              "      <td>0.000060</td>\n",
              "      <td>0.2590</td>\n",
              "      <td>0.310660</td>\n",
              "      <td>-0.232633</td>\n",
              "      <td>5.882353</td>\n",
              "      <td>-0.955541</td>\n",
              "      <td>0.0</td>\n",
              "      <td>0.246438</td>\n",
              "    </tr>\n",
              "    <tr>\n",
              "      <th>Saudade De Bahia</th>\n",
              "      <th>Antônio Carlos Jobim</th>\n",
              "      <td>0.767322</td>\n",
              "      <td>1.0</td>\n",
              "      <td>0.217871</td>\n",
              "      <td>0.000002</td>\n",
              "      <td>0.3990</td>\n",
              "      <td>0.703553</td>\n",
              "      <td>0.154816</td>\n",
              "      <td>-0.124567</td>\n",
              "      <td>-0.874033</td>\n",
              "      <td>0.0</td>\n",
              "      <td>-0.355407</td>\n",
              "    </tr>\n",
              "    <tr>\n",
              "      <th>Canta Canta, Minha Gente</th>\n",
              "      <th>Martinho Da Vila</th>\n",
              "      <td>0.880041</td>\n",
              "      <td>1.0</td>\n",
              "      <td>0.454819</td>\n",
              "      <td>0.000064</td>\n",
              "      <td>0.7300</td>\n",
              "      <td>0.918782</td>\n",
              "      <td>-0.673325</td>\n",
              "      <td>-0.006920</td>\n",
              "      <td>-0.610901</td>\n",
              "      <td>0.0</td>\n",
              "      <td>4.881811</td>\n",
              "    </tr>\n",
              "    <tr>\n",
              "      <th>Mulher Eu Sei</th>\n",
              "      <th>Chico César</th>\n",
              "      <td>0.729059</td>\n",
              "      <td>1.0</td>\n",
              "      <td>0.882530</td>\n",
              "      <td>0.000041</td>\n",
              "      <td>0.0502</td>\n",
              "      <td>0.531980</td>\n",
              "      <td>-0.327071</td>\n",
              "      <td>1.806228</td>\n",
              "      <td>-1.774576</td>\n",
              "      <td>0.0</td>\n",
              "      <td>-0.145851</td>\n",
              "    </tr>\n",
              "    <tr>\n",
              "      <th>Rosa Morena</th>\n",
              "      <th>Kurt Elling</th>\n",
              "      <td>0.673216</td>\n",
              "      <td>1.0</td>\n",
              "      <td>0.919679</td>\n",
              "      <td>0.000348</td>\n",
              "      <td>0.1190</td>\n",
              "      <td>0.408122</td>\n",
              "      <td>0.046532</td>\n",
              "      <td>-0.145329</td>\n",
              "      <td>-2.053186</td>\n",
              "      <td>0.0</td>\n",
              "      <td>-0.298407</td>\n",
              "    </tr>\n",
              "  </tbody>\n",
              "</table>\n",
              "</div>\n",
              "    <div class=\"colab-df-buttons\">\n",
              "\n",
              "  <div class=\"colab-df-container\">\n",
              "    <button class=\"colab-df-convert\" onclick=\"convertToInteractive('df-4b4d8f3e-0c7c-455b-a10d-405f9932abbf')\"\n",
              "            title=\"Convert this dataframe to an interactive table.\"\n",
              "            style=\"display:none;\">\n",
              "\n",
              "  <svg xmlns=\"http://www.w3.org/2000/svg\" height=\"24px\" viewBox=\"0 -960 960 960\">\n",
              "    <path d=\"M120-120v-720h720v720H120Zm60-500h600v-160H180v160Zm220 220h160v-160H400v160Zm0 220h160v-160H400v160ZM180-400h160v-160H180v160Zm440 0h160v-160H620v160ZM180-180h160v-160H180v160Zm440 0h160v-160H620v160Z\"/>\n",
              "  </svg>\n",
              "    </button>\n",
              "\n",
              "  <style>\n",
              "    .colab-df-container {\n",
              "      display:flex;\n",
              "      gap: 12px;\n",
              "    }\n",
              "\n",
              "    .colab-df-convert {\n",
              "      background-color: #E8F0FE;\n",
              "      border: none;\n",
              "      border-radius: 50%;\n",
              "      cursor: pointer;\n",
              "      display: none;\n",
              "      fill: #1967D2;\n",
              "      height: 32px;\n",
              "      padding: 0 0 0 0;\n",
              "      width: 32px;\n",
              "    }\n",
              "\n",
              "    .colab-df-convert:hover {\n",
              "      background-color: #E2EBFA;\n",
              "      box-shadow: 0px 1px 2px rgba(60, 64, 67, 0.3), 0px 1px 3px 1px rgba(60, 64, 67, 0.15);\n",
              "      fill: #174EA6;\n",
              "    }\n",
              "\n",
              "    .colab-df-buttons div {\n",
              "      margin-bottom: 4px;\n",
              "    }\n",
              "\n",
              "    [theme=dark] .colab-df-convert {\n",
              "      background-color: #3B4455;\n",
              "      fill: #D2E3FC;\n",
              "    }\n",
              "\n",
              "    [theme=dark] .colab-df-convert:hover {\n",
              "      background-color: #434B5C;\n",
              "      box-shadow: 0px 1px 3px 1px rgba(0, 0, 0, 0.15);\n",
              "      filter: drop-shadow(0px 1px 2px rgba(0, 0, 0, 0.3));\n",
              "      fill: #FFFFFF;\n",
              "    }\n",
              "  </style>\n",
              "\n",
              "    <script>\n",
              "      const buttonEl =\n",
              "        document.querySelector('#df-4b4d8f3e-0c7c-455b-a10d-405f9932abbf button.colab-df-convert');\n",
              "      buttonEl.style.display =\n",
              "        google.colab.kernel.accessAllowed ? 'block' : 'none';\n",
              "\n",
              "      async function convertToInteractive(key) {\n",
              "        const element = document.querySelector('#df-4b4d8f3e-0c7c-455b-a10d-405f9932abbf');\n",
              "        const dataTable =\n",
              "          await google.colab.kernel.invokeFunction('convertToInteractive',\n",
              "                                                    [key], {});\n",
              "        if (!dataTable) return;\n",
              "\n",
              "        const docLinkHtml = 'Like what you see? Visit the ' +\n",
              "          '<a target=\"_blank\" href=https://colab.research.google.com/notebooks/data_table.ipynb>data table notebook</a>'\n",
              "          + ' to learn more about interactive tables.';\n",
              "        element.innerHTML = '';\n",
              "        dataTable['output_type'] = 'display_data';\n",
              "        await google.colab.output.renderOutput(dataTable, element);\n",
              "        const docLink = document.createElement('div');\n",
              "        docLink.innerHTML = docLinkHtml;\n",
              "        element.appendChild(docLink);\n",
              "      }\n",
              "    </script>\n",
              "  </div>\n",
              "\n",
              "\n",
              "<div id=\"df-a7dcb8d2-ffd7-4b1c-a4ab-ae1b8f88fd1c\">\n",
              "  <button class=\"colab-df-quickchart\" onclick=\"quickchart('df-a7dcb8d2-ffd7-4b1c-a4ab-ae1b8f88fd1c')\"\n",
              "            title=\"Suggest charts\"\n",
              "            style=\"display:none;\">\n",
              "\n",
              "<svg xmlns=\"http://www.w3.org/2000/svg\" height=\"24px\"viewBox=\"0 0 24 24\"\n",
              "     width=\"24px\">\n",
              "    <g>\n",
              "        <path d=\"M19 3H5c-1.1 0-2 .9-2 2v14c0 1.1.9 2 2 2h14c1.1 0 2-.9 2-2V5c0-1.1-.9-2-2-2zM9 17H7v-7h2v7zm4 0h-2V7h2v10zm4 0h-2v-4h2v4z\"/>\n",
              "    </g>\n",
              "</svg>\n",
              "  </button>\n",
              "\n",
              "<style>\n",
              "  .colab-df-quickchart {\n",
              "      --bg-color: #E8F0FE;\n",
              "      --fill-color: #1967D2;\n",
              "      --hover-bg-color: #E2EBFA;\n",
              "      --hover-fill-color: #174EA6;\n",
              "      --disabled-fill-color: #AAA;\n",
              "      --disabled-bg-color: #DDD;\n",
              "  }\n",
              "\n",
              "  [theme=dark] .colab-df-quickchart {\n",
              "      --bg-color: #3B4455;\n",
              "      --fill-color: #D2E3FC;\n",
              "      --hover-bg-color: #434B5C;\n",
              "      --hover-fill-color: #FFFFFF;\n",
              "      --disabled-bg-color: #3B4455;\n",
              "      --disabled-fill-color: #666;\n",
              "  }\n",
              "\n",
              "  .colab-df-quickchart {\n",
              "    background-color: var(--bg-color);\n",
              "    border: none;\n",
              "    border-radius: 50%;\n",
              "    cursor: pointer;\n",
              "    display: none;\n",
              "    fill: var(--fill-color);\n",
              "    height: 32px;\n",
              "    padding: 0;\n",
              "    width: 32px;\n",
              "  }\n",
              "\n",
              "  .colab-df-quickchart:hover {\n",
              "    background-color: var(--hover-bg-color);\n",
              "    box-shadow: 0 1px 2px rgba(60, 64, 67, 0.3), 0 1px 3px 1px rgba(60, 64, 67, 0.15);\n",
              "    fill: var(--button-hover-fill-color);\n",
              "  }\n",
              "\n",
              "  .colab-df-quickchart-complete:disabled,\n",
              "  .colab-df-quickchart-complete:disabled:hover {\n",
              "    background-color: var(--disabled-bg-color);\n",
              "    fill: var(--disabled-fill-color);\n",
              "    box-shadow: none;\n",
              "  }\n",
              "\n",
              "  .colab-df-spinner {\n",
              "    border: 2px solid var(--fill-color);\n",
              "    border-color: transparent;\n",
              "    border-bottom-color: var(--fill-color);\n",
              "    animation:\n",
              "      spin 1s steps(1) infinite;\n",
              "  }\n",
              "\n",
              "  @keyframes spin {\n",
              "    0% {\n",
              "      border-color: transparent;\n",
              "      border-bottom-color: var(--fill-color);\n",
              "      border-left-color: var(--fill-color);\n",
              "    }\n",
              "    20% {\n",
              "      border-color: transparent;\n",
              "      border-left-color: var(--fill-color);\n",
              "      border-top-color: var(--fill-color);\n",
              "    }\n",
              "    30% {\n",
              "      border-color: transparent;\n",
              "      border-left-color: var(--fill-color);\n",
              "      border-top-color: var(--fill-color);\n",
              "      border-right-color: var(--fill-color);\n",
              "    }\n",
              "    40% {\n",
              "      border-color: transparent;\n",
              "      border-right-color: var(--fill-color);\n",
              "      border-top-color: var(--fill-color);\n",
              "    }\n",
              "    60% {\n",
              "      border-color: transparent;\n",
              "      border-right-color: var(--fill-color);\n",
              "    }\n",
              "    80% {\n",
              "      border-color: transparent;\n",
              "      border-right-color: var(--fill-color);\n",
              "      border-bottom-color: var(--fill-color);\n",
              "    }\n",
              "    90% {\n",
              "      border-color: transparent;\n",
              "      border-bottom-color: var(--fill-color);\n",
              "    }\n",
              "  }\n",
              "</style>\n",
              "\n",
              "  <script>\n",
              "    async function quickchart(key) {\n",
              "      const quickchartButtonEl =\n",
              "        document.querySelector('#' + key + ' button');\n",
              "      quickchartButtonEl.disabled = true;  // To prevent multiple clicks.\n",
              "      quickchartButtonEl.classList.add('colab-df-spinner');\n",
              "      try {\n",
              "        const charts = await google.colab.kernel.invokeFunction(\n",
              "            'suggestCharts', [key], {});\n",
              "      } catch (error) {\n",
              "        console.error('Error during call to suggestCharts:', error);\n",
              "      }\n",
              "      quickchartButtonEl.classList.remove('colab-df-spinner');\n",
              "      quickchartButtonEl.classList.add('colab-df-quickchart-complete');\n",
              "    }\n",
              "    (() => {\n",
              "      let quickchartButtonEl =\n",
              "        document.querySelector('#df-a7dcb8d2-ffd7-4b1c-a4ab-ae1b8f88fd1c button');\n",
              "      quickchartButtonEl.style.display =\n",
              "        google.colab.kernel.accessAllowed ? 'block' : 'none';\n",
              "    })();\n",
              "  </script>\n",
              "</div>\n",
              "\n",
              "    </div>\n",
              "  </div>\n"
            ],
            "application/vnd.google.colaboratory.intrinsic+json": {
              "type": "dataframe",
              "variable_name": "scaled_df",
              "summary": "{\n  \"name\": \"scaled_df\",\n  \"rows\": 5235,\n  \"fields\": [\n    {\n      \"column\": \"danceability\",\n      \"properties\": {\n        \"dtype\": \"number\",\n        \"std\": 0.22548192593554764,\n        \"min\": 0.0,\n        \"max\": 1.0,\n        \"num_unique_values\": 882,\n        \"samples\": [\n          0.4002068252326784,\n          0.5036194415718718,\n          0.749741468459152\n        ],\n        \"semantic_type\": \"\",\n        \"description\": \"\"\n      }\n    },\n    {\n      \"column\": \"mode\",\n      \"properties\": {\n        \"dtype\": \"number\",\n        \"std\": 0.4781853734026374,\n        \"min\": 0.0,\n        \"max\": 1.0,\n        \"num_unique_values\": 2,\n        \"samples\": [\n          1.0,\n          0.0\n        ],\n        \"semantic_type\": \"\",\n        \"description\": \"\"\n      }\n    },\n    {\n      \"column\": \"acousticness\",\n      \"properties\": {\n        \"dtype\": \"number\",\n        \"std\": 0.35741438062086245,\n        \"min\": 0.0,\n        \"max\": 1.0,\n        \"num_unique_values\": 2545,\n        \"samples\": [\n          0.20682730923694778,\n          0.08765060240963857\n        ],\n        \"semantic_type\": \"\",\n        \"description\": \"\"\n      }\n    },\n    {\n      \"column\": \"instrumentalness\",\n      \"properties\": {\n        \"dtype\": \"number\",\n        \"std\": 0.3763312231116122,\n        \"min\": 0.0,\n        \"max\": 0.9999999999999999,\n        \"num_unique_values\": 2168,\n        \"samples\": [\n          0.216243654822335,\n          4.365482233502538e-06\n        ],\n        \"semantic_type\": \"\",\n        \"description\": \"\"\n      }\n    },\n    {\n      \"column\": \"energy\",\n      \"properties\": {\n        \"dtype\": \"number\",\n        \"std\": 0.28833495434424555,\n        \"min\": 0.0,\n        \"max\": 1.0,\n        \"num_unique_values\": 1191,\n        \"samples\": [\n          0.79,\n          0.789\n        ],\n        \"semantic_type\": \"\",\n        \"description\": \"\"\n      }\n    },\n    {\n      \"column\": \"valence\",\n      \"properties\": {\n        \"dtype\": \"number\",\n        \"std\": 0.281954492426771,\n        \"min\": 0.0,\n        \"max\": 0.9999999999999999,\n        \"num_unique_values\": 1267,\n        \"samples\": [\n          0.023756345177664975,\n          0.09725888324873096\n        ],\n        \"semantic_type\": \"\",\n        \"description\": \"\"\n      }\n    },\n    {\n      \"column\": \"tempo\",\n      \"properties\": {\n        \"dtype\": \"number\",\n        \"std\": 0.7548807885167126,\n        \"min\": -3.1491610516580795,\n        \"max\": 2.505218655040296,\n        \"num_unique_values\": 4824,\n        \"samples\": [\n          -0.8187607345752412,\n          0.8119963007002243\n        ],\n        \"semantic_type\": \"\",\n        \"description\": \"\"\n      }\n    },\n    {\n      \"column\": \"liveness\",\n      \"properties\": {\n        \"dtype\": \"number\",\n        \"std\": 1.0339778356109588,\n        \"min\": -0.8650519031141869,\n        \"max\": 5.965397923875432,\n        \"num_unique_values\": 1128,\n        \"samples\": [\n          2.2145328719723185,\n          -0.4249134948096886\n        ],\n        \"semantic_type\": \"\",\n        \"description\": \"\"\n      }\n    },\n    {\n      \"column\": \"loudness\",\n      \"properties\": {\n        \"dtype\": \"number\",\n        \"std\": 1.0365305682990227,\n        \"min\": -8.67149678906636,\n        \"max\": 1.4292771282726824,\n        \"num_unique_values\": 4310,\n        \"samples\": [\n          -1.1239914375102915,\n          0.08727152972171913\n        ],\n        \"semantic_type\": \"\",\n        \"description\": \"\"\n      }\n    },\n    {\n      \"column\": \"time_signature\",\n      \"properties\": {\n        \"dtype\": \"number\",\n        \"std\": 0.42032433456896534,\n        \"min\": -4.0,\n        \"max\": 1.0,\n        \"num_unique_values\": 5,\n        \"samples\": [\n          -1.0,\n          -4.0\n        ],\n        \"semantic_type\": \"\",\n        \"description\": \"\"\n      }\n    },\n    {\n      \"column\": \"speechiness\",\n      \"properties\": {\n        \"dtype\": \"number\",\n        \"std\": 1.193515207866029,\n        \"min\": -0.9354568315171838,\n        \"max\": 14.454316848281648,\n        \"num_unique_values\": 1001,\n        \"samples\": [\n          0.1307627829002515,\n          0.20284995808885167\n        ],\n        \"semantic_type\": \"\",\n        \"description\": \"\"\n      }\n    }\n  ]\n}"
            }
          },
          "metadata": {},
          "execution_count": 116
        }
      ],
      "source": [
        "scaled_df.head()"
      ]
    },
    {
      "cell_type": "code",
      "source": [
        "eda_df = scaled_df.copy()"
      ],
      "metadata": {
        "id": "i2YrMbLUny6P"
      },
      "execution_count": null,
      "outputs": []
    },
    {
      "cell_type": "code",
      "source": [
        "plt.figure(figsize=(20,10))\n",
        "corn=eda_df.corr()\n",
        "sns.heatmap(corn,annot=True,cmap=\"BuPu\",fmt='.2f')"
      ],
      "metadata": {
        "colab": {
          "base_uri": "https://localhost:8080/",
          "height": 620
        },
        "id": "sX3GBtBgpYpu",
        "outputId": "d1b9a4ff-fc63-4890-aa1a-71b5302dbf40"
      },
      "execution_count": 146,
      "outputs": [
        {
          "output_type": "execute_result",
          "data": {
            "text/plain": [
              "<Axes: >"
            ]
          },
          "metadata": {},
          "execution_count": 146
        },
        {
          "output_type": "display_data",
          "data": {
            "text/plain": [
              "<Figure size 2000x1000 with 2 Axes>"
            ],
            "image/png": "[encoded data removed]"
          },
          "metadata": {}
        }
      ]
    },
    {
      "cell_type": "markdown",
      "source": [
        "Strong Positive Correlation:\n",
        "\n",
        "Danceability and Valence: A significant positive correlation ~0.68 suggests that tracks with higher valence happier tones are generally more danceable.\n",
        "Energy and Loudness: A strong positive correlation ~0.79 indicates that louder tracks tend to be more energetic.\n",
        "Strong Negative Correlation:\n",
        "\n",
        "Energy and Acousticness: A strong negative correlation ~-0.85 implies that more energetic tracks are less likely to have acoustic qualities.\n",
        "Instrumentalness and Loudness: The negative correlation ~-0.47 suggests that instrumental tracks are generally quieter."
      ],
      "metadata": {
        "id": "LB-TIL0ArEps"
      }
    },
    {
      "cell_type": "markdown",
      "source": [
        "## INFERENCE"
      ],
      "metadata": {
        "id": "TU97zkl8rzzR"
      }
    },
    {
      "cell_type": "markdown",
      "source": [
        "From the heatmap we observe Points are more similar to each other, making it difficult for clustering algorithms like KMeans to identify well-defined clusters.\n",
        "\n",
        "PCA: By reducing the dimensionality using Principal Component Analysis (PCA), we re transforming the data into a lower-dimensional space that retains the most important variance (information) from the original features. This can help remove noise and correlations between features, allowing the clustering algorithm to work better."
      ],
      "metadata": {
        "id": "-kRfk2yUrfPA"
      }
    },
    {
      "cell_type": "markdown",
      "metadata": {
        "id": "h6UovC1SA-RQ"
      },
      "source": [
        "Appling PCA"
      ]
    },
    {
      "cell_type": "code",
      "execution_count": null,
      "metadata": {
        "colab": {
          "base_uri": "https://localhost:8080/"
        },
        "id": "4GKODlBIA-RQ",
        "outputId": "5b50cbca-93ac-4cde-f517-699588ffaa85"
      },
      "outputs": [
        {
          "output_type": "stream",
          "name": "stdout",
          "text": [
            "           PC1       PC2       PC3       PC4       PC5       PC6       PC7\n",
            "0     0.792519  3.365776  4.283616 -0.003536 -0.667859  0.487113 -0.322203\n",
            "1    -1.003510 -0.018348 -0.405229  0.225674  0.315072  0.418330 -0.212045\n",
            "2     2.915858 -3.121311  1.180639 -0.519300  0.416211  0.605100 -0.488637\n",
            "3    -1.091066  0.599960  1.765466  0.045788  0.306466  0.695292 -0.412363\n",
            "4    -1.815678 -0.650430  0.430747  0.442595  0.296619  0.650706 -0.328808\n",
            "...        ...       ...       ...       ...       ...       ...       ...\n",
            "5230 -2.294140 -1.278825  1.014691 -0.169538  0.319055  0.167072  0.299913\n",
            "5231 -2.194202 -1.193293  0.770640 -0.375583  0.328568  0.212455  0.174477\n",
            "5232 -4.326417 -2.685923  2.976310  0.245391  0.306434 -0.272170 -0.149767\n",
            "5233 -2.931629 -1.549127  1.766928 -0.479080  0.318964  0.355940  0.216099\n",
            "5234 -2.318004 -0.366704  2.147565 -0.697417  0.341681 -0.382592 -0.546205\n",
            "\n",
            "[5235 rows x 7 columns]\n",
            "Explained variance ratio: [0.34745924 0.21531147 0.19320811 0.10462374 0.0454637  0.03592742\n",
            " 0.02970648]\n",
            "Total explained variance: 0.97\n"
          ]
        }
      ],
      "source": [
        "pca = PCA(n_components=0.95)\n",
        "\n",
        "\n",
        "pca_result = pca.fit_transform(scaled_df)\n",
        "\n",
        "\n",
        "n_components = pca.n_components_\n",
        "\n",
        "pca_df = pd.DataFrame(data=pca_result, columns=[f'PC{i+1}' for i in range(n_components)])\n",
        "\n",
        "print(pca_df)\n",
        "\n",
        "print(f\"Explained variance ratio: {pca.explained_variance_ratio_}\")\n",
        "print(f\"Total explained variance: {sum(pca.explained_variance_ratio_):.2f}\")"
      ]
    },
    {
      "cell_type": "code",
      "execution_count": null,
      "metadata": {
        "id": "slORTTLpA-RQ"
      },
      "outputs": [],
      "source": [
        "scaled_df = pca_df"
      ]
    },
    {
      "cell_type": "markdown",
      "metadata": {
        "id": "HetXq2h1A-RQ"
      },
      "source": [
        "\n",
        "Computes inertia values for KMeans clustering with cluster counts from 2 to 50."
      ]
    },
    {
      "cell_type": "code",
      "execution_count": null,
      "metadata": {
        "id": "Nz0gMDEJA-RQ"
      },
      "outputs": [],
      "source": [
        "def find_best_clusters(scaled_df):\n",
        "    inertia_list = []\n",
        "    K = range(2, 51)\n",
        "    for k in K:\n",
        "        myKMeans = KMeans(n_clusters=k, init = 'k-means++', random_state=42)\n",
        "        myKMeans.fit(scaled_df)\n",
        "        inertia_list.append(myKMeans.inertia_)\n",
        "    return inertia_list"
      ]
    },
    {
      "cell_type": "code",
      "execution_count": null,
      "metadata": {
        "id": "oeF6Xn9vA-RQ"
      },
      "outputs": [],
      "source": [
        "inertia_list = find_best_clusters(scaled_df)"
      ]
    },
    {
      "cell_type": "markdown",
      "metadata": {
        "id": "8Dvhz_kuA-RQ"
      },
      "source": [
        "Generates an elbow plot for KMeans inertia values, identifies the optimal number of clusters using the knee point, and displays the result."
      ]
    },
    {
      "cell_type": "code",
      "execution_count": null,
      "metadata": {
        "id": "rkgTbg50A-RR"
      },
      "outputs": [],
      "source": [
        "def generate_elbow_plot(inertia_list):\n",
        "    plt.plot(inertia_list, 'o-', color='blue')\n",
        "    plt.xlabel(\"Number of Clusters (K)\")\n",
        "    plt.ylabel(\"Cluster Inertia\")\n",
        "    plt.title(\"Elbow Plot of KMeans\")\n",
        "\n",
        "    knee_locator = KneeLocator(range(1, len(inertia_list) + 1), inertia_list, curve='convex', direction='decreasing')\n",
        "    optimal_k = knee_locator.elbow\n",
        "\n",
        "    plt.axvline(x=optimal_k, color='red', linestyle='--')\n",
        "    plt.text(optimal_k + 0.5, inertia_list[optimal_k-1], f'Optimal K={optimal_k}', color='red', fontsize=12)\n",
        "\n",
        "    plt.show()\n",
        "    print(f\"Optimal K: {optimal_k}\")\n"
      ]
    },
    {
      "cell_type": "code",
      "execution_count": null,
      "metadata": {
        "colab": {
          "base_uri": "https://localhost:8080/",
          "height": 489
        },
        "id": "h5OYZZtFA-RR",
        "outputId": "93f13a2d-0202-475b-fd8f-0104b36f1670"
      },
      "outputs": [
        {
          "output_type": "display_data",
          "data": {
            "text/plain": [
              "<Figure size 640x480 with 1 Axes>"
            ],
            "image/png": "[encoded data removed]"
          },
          "metadata": {}
        },
        {
          "output_type": "stream",
          "name": "stdout",
          "text": [
            "Optimal K: 8\n"
          ]
        }
      ],
      "source": [
        "generate_elbow_plot(inertia_list)"
      ]
    },
    {
      "cell_type": "markdown",
      "metadata": {
        "id": "dpCPqq-uA-RR"
      },
      "source": [
        "Applying KMeans clustering to the scaled data, assigns cluster labels to each data point, and returns the updated DataFrame."
      ]
    },
    {
      "cell_type": "code",
      "execution_count": null,
      "metadata": {
        "id": "WGueTXeAA-RV"
      },
      "outputs": [],
      "source": [
        "def clustering_model(scaled_df, n_clusters):\n",
        "    clustering = KMeans(n_clusters, init='k-means++', random_state=42)\n",
        "    clustering.fit(scaled_df)\n",
        "    scaled_df['cluster'] = clustering.predict(scaled_df)\n",
        "    return scaled_df"
      ]
    },
    {
      "cell_type": "code",
      "execution_count": null,
      "metadata": {
        "id": "RgpKloaeA-RV"
      },
      "outputs": [],
      "source": [
        "cm_df = clustering_model(scaled_df, 8)"
      ]
    },
    {
      "cell_type": "code",
      "execution_count": null,
      "metadata": {
        "colab": {
          "base_uri": "https://localhost:8080/",
          "height": 206
        },
        "id": "U8GxJOZrA-RV",
        "outputId": "8cdfb9fe-dc39-4855-fa65-b146ab129b86"
      },
      "outputs": [
        {
          "output_type": "execute_result",
          "data": {
            "text/plain": [
              "        PC1       PC2       PC3       PC4       PC5       PC6       PC7  \\\n",
              "0  0.792519  3.365776  4.283616 -0.003536 -0.667859  0.487113 -0.322203   \n",
              "1 -1.003510 -0.018348 -0.405229  0.225674  0.315072  0.418330 -0.212045   \n",
              "2  2.915858 -3.121311  1.180639 -0.519300  0.416211  0.605100 -0.488637   \n",
              "3 -1.091066  0.599960  1.765466  0.045788  0.306466  0.695292 -0.412363   \n",
              "4 -1.815678 -0.650430  0.430747  0.442595  0.296619  0.650706 -0.328808   \n",
              "\n",
              "   cluster  \n",
              "0        5  \n",
              "1        6  \n",
              "2        7  \n",
              "3        6  \n",
              "4        6  "
            ],
            "text/html": [
              "\n",
              "  <div id=\"df-c8e113df-b11e-44c2-809c-e80f8857de8e\" class=\"colab-df-container\">\n",
              "    <div>\n",
              "<style scoped>\n",
              "    .dataframe tbody tr th:only-of-type {\n",
              "        vertical-align: middle;\n",
              "    }\n",
              "\n",
              "    .dataframe tbody tr th {\n",
              "        vertical-align: top;\n",
              "    }\n",
              "\n",
              "    .dataframe thead th {\n",
              "        text-align: right;\n",
              "    }\n",
              "</style>\n",
              "<table border=\"1\" class=\"dataframe\">\n",
              "  <thead>\n",
              "    <tr style=\"text-align: right;\">\n",
              "      <th></th>\n",
              "      <th>PC1</th>\n",
              "      <th>PC2</th>\n",
              "      <th>PC3</th>\n",
              "      <th>PC4</th>\n",
              "      <th>PC5</th>\n",
              "      <th>PC6</th>\n",
              "      <th>PC7</th>\n",
              "      <th>cluster</th>\n",
              "    </tr>\n",
              "  </thead>\n",
              "  <tbody>\n",
              "    <tr>\n",
              "      <th>0</th>\n",
              "      <td>0.792519</td>\n",
              "      <td>3.365776</td>\n",
              "      <td>4.283616</td>\n",
              "      <td>-0.003536</td>\n",
              "      <td>-0.667859</td>\n",
              "      <td>0.487113</td>\n",
              "      <td>-0.322203</td>\n",
              "      <td>5</td>\n",
              "    </tr>\n",
              "    <tr>\n",
              "      <th>1</th>\n",
              "      <td>-1.003510</td>\n",
              "      <td>-0.018348</td>\n",
              "      <td>-0.405229</td>\n",
              "      <td>0.225674</td>\n",
              "      <td>0.315072</td>\n",
              "      <td>0.418330</td>\n",
              "      <td>-0.212045</td>\n",
              "      <td>6</td>\n",
              "    </tr>\n",
              "    <tr>\n",
              "      <th>2</th>\n",
              "      <td>2.915858</td>\n",
              "      <td>-3.121311</td>\n",
              "      <td>1.180639</td>\n",
              "      <td>-0.519300</td>\n",
              "      <td>0.416211</td>\n",
              "      <td>0.605100</td>\n",
              "      <td>-0.488637</td>\n",
              "      <td>7</td>\n",
              "    </tr>\n",
              "    <tr>\n",
              "      <th>3</th>\n",
              "      <td>-1.091066</td>\n",
              "      <td>0.599960</td>\n",
              "      <td>1.765466</td>\n",
              "      <td>0.045788</td>\n",
              "      <td>0.306466</td>\n",
              "      <td>0.695292</td>\n",
              "      <td>-0.412363</td>\n",
              "      <td>6</td>\n",
              "    </tr>\n",
              "    <tr>\n",
              "      <th>4</th>\n",
              "      <td>-1.815678</td>\n",
              "      <td>-0.650430</td>\n",
              "      <td>0.430747</td>\n",
              "      <td>0.442595</td>\n",
              "      <td>0.296619</td>\n",
              "      <td>0.650706</td>\n",
              "      <td>-0.328808</td>\n",
              "      <td>6</td>\n",
              "    </tr>\n",
              "  </tbody>\n",
              "</table>\n",
              "</div>\n",
              "    <div class=\"colab-df-buttons\">\n",
              "\n",
              "  <div class=\"colab-df-container\">\n",
              "    <button class=\"colab-df-convert\" onclick=\"convertToInteractive('df-c8e113df-b11e-44c2-809c-e80f8857de8e')\"\n",
              "            title=\"Convert this dataframe to an interactive table.\"\n",
              "            style=\"display:none;\">\n",
              "\n",
              "  <svg xmlns=\"http://www.w3.org/2000/svg\" height=\"24px\" viewBox=\"0 -960 960 960\">\n",
              "    <path d=\"M120-120v-720h720v720H120Zm60-500h600v-160H180v160Zm220 220h160v-160H400v160Zm0 220h160v-160H400v160ZM180-400h160v-160H180v160Zm440 0h160v-160H620v160ZM180-180h160v-160H180v160Zm440 0h160v-160H620v160Z\"/>\n",
              "  </svg>\n",
              "    </button>\n",
              "\n",
              "  <style>\n",
              "    .colab-df-container {\n",
              "      display:flex;\n",
              "      gap: 12px;\n",
              "    }\n",
              "\n",
              "    .colab-df-convert {\n",
              "      background-color: #E8F0FE;\n",
              "      border: none;\n",
              "      border-radius: 50%;\n",
              "      cursor: pointer;\n",
              "      display: none;\n",
              "      fill: #1967D2;\n",
              "      height: 32px;\n",
              "      padding: 0 0 0 0;\n",
              "      width: 32px;\n",
              "    }\n",
              "\n",
              "    .colab-df-convert:hover {\n",
              "      background-color: #E2EBFA;\n",
              "      box-shadow: 0px 1px 2px rgba(60, 64, 67, 0.3), 0px 1px 3px 1px rgba(60, 64, 67, 0.15);\n",
              "      fill: #174EA6;\n",
              "    }\n",
              "\n",
              "    .colab-df-buttons div {\n",
              "      margin-bottom: 4px;\n",
              "    }\n",
              "\n",
              "    [theme=dark] .colab-df-convert {\n",
              "      background-color: #3B4455;\n",
              "      fill: #D2E3FC;\n",
              "    }\n",
              "\n",
              "    [theme=dark] .colab-df-convert:hover {\n",
              "      background-color: #434B5C;\n",
              "      box-shadow: 0px 1px 3px 1px rgba(0, 0, 0, 0.15);\n",
              "      filter: drop-shadow(0px 1px 2px rgba(0, 0, 0, 0.3));\n",
              "      fill: #FFFFFF;\n",
              "    }\n",
              "  </style>\n",
              "\n",
              "    <script>\n",
              "      const buttonEl =\n",
              "        document.querySelector('#df-c8e113df-b11e-44c2-809c-e80f8857de8e button.colab-df-convert');\n",
              "      buttonEl.style.display =\n",
              "        google.colab.kernel.accessAllowed ? 'block' : 'none';\n",
              "\n",
              "      async function convertToInteractive(key) {\n",
              "        const element = document.querySelector('#df-c8e113df-b11e-44c2-809c-e80f8857de8e');\n",
              "        const dataTable =\n",
              "          await google.colab.kernel.invokeFunction('convertToInteractive',\n",
              "                                                    [key], {});\n",
              "        if (!dataTable) return;\n",
              "\n",
              "        const docLinkHtml = 'Like what you see? Visit the ' +\n",
              "          '<a target=\"_blank\" href=https://colab.research.google.com/notebooks/data_table.ipynb>data table notebook</a>'\n",
              "          + ' to learn more about interactive tables.';\n",
              "        element.innerHTML = '';\n",
              "        dataTable['output_type'] = 'display_data';\n",
              "        await google.colab.output.renderOutput(dataTable, element);\n",
              "        const docLink = document.createElement('div');\n",
              "        docLink.innerHTML = docLinkHtml;\n",
              "        element.appendChild(docLink);\n",
              "      }\n",
              "    </script>\n",
              "  </div>\n",
              "\n",
              "\n",
              "<div id=\"df-0f90e445-6bb3-4405-a1bb-cbf83d5f0dcd\">\n",
              "  <button class=\"colab-df-quickchart\" onclick=\"quickchart('df-0f90e445-6bb3-4405-a1bb-cbf83d5f0dcd')\"\n",
              "            title=\"Suggest charts\"\n",
              "            style=\"display:none;\">\n",
              "\n",
              "<svg xmlns=\"http://www.w3.org/2000/svg\" height=\"24px\"viewBox=\"0 0 24 24\"\n",
              "     width=\"24px\">\n",
              "    <g>\n",
              "        <path d=\"M19 3H5c-1.1 0-2 .9-2 2v14c0 1.1.9 2 2 2h14c1.1 0 2-.9 2-2V5c0-1.1-.9-2-2-2zM9 17H7v-7h2v7zm4 0h-2V7h2v10zm4 0h-2v-4h2v4z\"/>\n",
              "    </g>\n",
              "</svg>\n",
              "  </button>\n",
              "\n",
              "<style>\n",
              "  .colab-df-quickchart {\n",
              "      --bg-color: #E8F0FE;\n",
              "      --fill-color: #1967D2;\n",
              "      --hover-bg-color: #E2EBFA;\n",
              "      --hover-fill-color: #174EA6;\n",
              "      --disabled-fill-color: #AAA;\n",
              "      --disabled-bg-color: #DDD;\n",
              "  }\n",
              "\n",
              "  [theme=dark] .colab-df-quickchart {\n",
              "      --bg-color: #3B4455;\n",
              "      --fill-color: #D2E3FC;\n",
              "      --hover-bg-color: #434B5C;\n",
              "      --hover-fill-color: #FFFFFF;\n",
              "      --disabled-bg-color: #3B4455;\n",
              "      --disabled-fill-color: #666;\n",
              "  }\n",
              "\n",
              "  .colab-df-quickchart {\n",
              "    background-color: var(--bg-color);\n",
              "    border: none;\n",
              "    border-radius: 50%;\n",
              "    cursor: pointer;\n",
              "    display: none;\n",
              "    fill: var(--fill-color);\n",
              "    height: 32px;\n",
              "    padding: 0;\n",
              "    width: 32px;\n",
              "  }\n",
              "\n",
              "  .colab-df-quickchart:hover {\n",
              "    background-color: var(--hover-bg-color);\n",
              "    box-shadow: 0 1px 2px rgba(60, 64, 67, 0.3), 0 1px 3px 1px rgba(60, 64, 67, 0.15);\n",
              "    fill: var(--button-hover-fill-color);\n",
              "  }\n",
              "\n",
              "  .colab-df-quickchart-complete:disabled,\n",
              "  .colab-df-quickchart-complete:disabled:hover {\n",
              "    background-color: var(--disabled-bg-color);\n",
              "    fill: var(--disabled-fill-color);\n",
              "    box-shadow: none;\n",
              "  }\n",
              "\n",
              "  .colab-df-spinner {\n",
              "    border: 2px solid var(--fill-color);\n",
              "    border-color: transparent;\n",
              "    border-bottom-color: var(--fill-color);\n",
              "    animation:\n",
              "      spin 1s steps(1) infinite;\n",
              "  }\n",
              "\n",
              "  @keyframes spin {\n",
              "    0% {\n",
              "      border-color: transparent;\n",
              "      border-bottom-color: var(--fill-color);\n",
              "      border-left-color: var(--fill-color);\n",
              "    }\n",
              "    20% {\n",
              "      border-color: transparent;\n",
              "      border-left-color: var(--fill-color);\n",
              "      border-top-color: var(--fill-color);\n",
              "    }\n",
              "    30% {\n",
              "      border-color: transparent;\n",
              "      border-left-color: var(--fill-color);\n",
              "      border-top-color: var(--fill-color);\n",
              "      border-right-color: var(--fill-color);\n",
              "    }\n",
              "    40% {\n",
              "      border-color: transparent;\n",
              "      border-right-color: var(--fill-color);\n",
              "      border-top-color: var(--fill-color);\n",
              "    }\n",
              "    60% {\n",
              "      border-color: transparent;\n",
              "      border-right-color: var(--fill-color);\n",
              "    }\n",
              "    80% {\n",
              "      border-color: transparent;\n",
              "      border-right-color: var(--fill-color);\n",
              "      border-bottom-color: var(--fill-color);\n",
              "    }\n",
              "    90% {\n",
              "      border-color: transparent;\n",
              "      border-bottom-color: var(--fill-color);\n",
              "    }\n",
              "  }\n",
              "</style>\n",
              "\n",
              "  <script>\n",
              "    async function quickchart(key) {\n",
              "      const quickchartButtonEl =\n",
              "        document.querySelector('#' + key + ' button');\n",
              "      quickchartButtonEl.disabled = true;  // To prevent multiple clicks.\n",
              "      quickchartButtonEl.classList.add('colab-df-spinner');\n",
              "      try {\n",
              "        const charts = await google.colab.kernel.invokeFunction(\n",
              "            'suggestCharts', [key], {});\n",
              "      } catch (error) {\n",
              "        console.error('Error during call to suggestCharts:', error);\n",
              "      }\n",
              "      quickchartButtonEl.classList.remove('colab-df-spinner');\n",
              "      quickchartButtonEl.classList.add('colab-df-quickchart-complete');\n",
              "    }\n",
              "    (() => {\n",
              "      let quickchartButtonEl =\n",
              "        document.querySelector('#df-0f90e445-6bb3-4405-a1bb-cbf83d5f0dcd button');\n",
              "      quickchartButtonEl.style.display =\n",
              "        google.colab.kernel.accessAllowed ? 'block' : 'none';\n",
              "    })();\n",
              "  </script>\n",
              "</div>\n",
              "\n",
              "    </div>\n",
              "  </div>\n"
            ],
            "application/vnd.google.colaboratory.intrinsic+json": {
              "type": "dataframe",
              "variable_name": "cm_df",
              "summary": "{\n  \"name\": \"cm_df\",\n  \"rows\": 5235,\n  \"fields\": [\n    {\n      \"column\": \"PC1\",\n      \"properties\": {\n        \"dtype\": \"number\",\n        \"std\": 1.321489275284716,\n        \"min\": -6.747330389176974,\n        \"max\": 10.515894600224682,\n        \"num_unique_values\": 5160,\n        \"samples\": [\n          -1.9222926668157705,\n          0.7951728926302954,\n          0.5597577554478694\n        ],\n        \"semantic_type\": \"\",\n        \"description\": \"\"\n      }\n    },\n    {\n      \"column\": \"PC2\",\n      \"properties\": {\n        \"dtype\": \"number\",\n        \"std\": 1.0402681215788532,\n        \"min\": -7.82230435202142,\n        \"max\": 4.2475494630525015,\n        \"num_unique_values\": 5160,\n        \"samples\": [\n          -0.9128479069586871,\n          0.7015016812290914,\n          1.756755445690183\n        ],\n        \"semantic_type\": \"\",\n        \"description\": \"\"\n      }\n    },\n    {\n      \"column\": \"PC3\",\n      \"properties\": {\n        \"dtype\": \"number\",\n        \"std\": 0.9854268456765072,\n        \"min\": -1.830045406830286,\n        \"max\": 5.401866511647257,\n        \"num_unique_values\": 5160,\n        \"samples\": [\n          0.7045148769970562,\n          0.09382206212118227,\n          0.4098965405709538\n        ],\n        \"semantic_type\": \"\",\n        \"description\": \"\"\n      }\n    },\n    {\n      \"column\": \"PC4\",\n      \"properties\": {\n        \"dtype\": \"number\",\n        \"std\": 0.7251483078133275,\n        \"min\": -1.759100859009758,\n        \"max\": 2.723301942424678,\n        \"num_unique_values\": 5160,\n        \"samples\": [\n          -0.6653794652296412,\n          -1.073038434318267,\n          -0.871853213640677\n        ],\n        \"semantic_type\": \"\",\n        \"description\": \"\"\n      }\n    },\n    {\n      \"column\": \"PC5\",\n      \"properties\": {\n        \"dtype\": \"number\",\n        \"std\": 0.4780178177404365,\n        \"min\": -0.7641650560880137,\n        \"max\": 0.5026933392776303,\n        \"num_unique_values\": 5160,\n        \"samples\": [\n          0.31407449363528084,\n          -0.59539848621962,\n          0.36192113541154636\n        ],\n        \"semantic_type\": \"\",\n        \"description\": \"\"\n      }\n    },\n    {\n      \"column\": \"PC6\",\n      \"properties\": {\n        \"dtype\": \"number\",\n        \"std\": 0.42493716558056277,\n        \"min\": -2.792314482124585,\n        \"max\": 1.367794620243914,\n        \"num_unique_values\": 5160,\n        \"samples\": [\n          1.168449958501345,\n          -0.6656403061942636,\n          0.17640525151587377\n        ],\n        \"semantic_type\": \"\",\n        \"description\": \"\"\n      }\n    },\n    {\n      \"column\": \"PC7\",\n      \"properties\": {\n        \"dtype\": \"number\",\n        \"std\": 0.386400166546487,\n        \"min\": -2.300548027659346,\n        \"max\": 1.4579925718427449,\n        \"num_unique_values\": 5160,\n        \"samples\": [\n          0.5044078085593791,\n          0.6731958259014673,\n          -0.1965219364938489\n        ],\n        \"semantic_type\": \"\",\n        \"description\": \"\"\n      }\n    },\n    {\n      \"column\": \"cluster\",\n      \"properties\": {\n        \"dtype\": \"int32\",\n        \"num_unique_values\": 8,\n        \"samples\": [\n          6,\n          3,\n          5\n        ],\n        \"semantic_type\": \"\",\n        \"description\": \"\"\n      }\n    }\n  ]\n}"
            }
          },
          "metadata": {},
          "execution_count": 126
        }
      ],
      "source": [
        "cm_df.head()"
      ]
    },
    {
      "cell_type": "code",
      "execution_count": null,
      "metadata": {
        "id": "9XkIeEGZA-RV"
      },
      "outputs": [],
      "source": [
        "def clustering_model(scaled_df, n_clusters):\n",
        "    clustering = KMeans(n_clusters, init='k-means++', random_state=42)\n",
        "    clustering.fit(scaled_df)\n",
        "    scaled_df['elbow_clusters'] = clustering.predict(scaled_df)\n",
        "    return scaled_df"
      ]
    },
    {
      "cell_type": "code",
      "execution_count": null,
      "metadata": {
        "id": "ZR0EZEN-A-RV"
      },
      "outputs": [],
      "source": [
        "final_df = clustering_model(scaled_df, 13)"
      ]
    },
    {
      "cell_type": "code",
      "source": [
        "final_df.head()"
      ],
      "metadata": {
        "colab": {
          "base_uri": "https://localhost:8080/",
          "height": 206
        },
        "id": "FkqRfa5hZxsQ",
        "outputId": "93193a85-4d5b-4efb-a29e-e55b88dc884d"
      },
      "execution_count": null,
      "outputs": [
        {
          "output_type": "execute_result",
          "data": {
            "text/plain": [
              "        PC1       PC2       PC3       PC4       PC5       PC6       PC7  \\\n",
              "0  0.792519  3.365776  4.283616 -0.003536 -0.667859  0.487113 -0.322203   \n",
              "1 -1.003510 -0.018348 -0.405229  0.225674  0.315072  0.418330 -0.212045   \n",
              "2  2.915858 -3.121311  1.180639 -0.519300  0.416211  0.605100 -0.488637   \n",
              "3 -1.091066  0.599960  1.765466  0.045788  0.306466  0.695292 -0.412363   \n",
              "4 -1.815678 -0.650430  0.430747  0.442595  0.296619  0.650706 -0.328808   \n",
              "\n",
              "   cluster  elbow_clusters  \n",
              "0        5               8  \n",
              "1        6               6  \n",
              "2        7               3  \n",
              "3        6               2  \n",
              "4        6               6  "
            ],
            "text/html": [
              "\n",
              "  <div id=\"df-904455b4-a84a-4d07-83e5-71254a469141\" class=\"colab-df-container\">\n",
              "    <div>\n",
              "<style scoped>\n",
              "    .dataframe tbody tr th:only-of-type {\n",
              "        vertical-align: middle;\n",
              "    }\n",
              "\n",
              "    .dataframe tbody tr th {\n",
              "        vertical-align: top;\n",
              "    }\n",
              "\n",
              "    .dataframe thead th {\n",
              "        text-align: right;\n",
              "    }\n",
              "</style>\n",
              "<table border=\"1\" class=\"dataframe\">\n",
              "  <thead>\n",
              "    <tr style=\"text-align: right;\">\n",
              "      <th></th>\n",
              "      <th>PC1</th>\n",
              "      <th>PC2</th>\n",
              "      <th>PC3</th>\n",
              "      <th>PC4</th>\n",
              "      <th>PC5</th>\n",
              "      <th>PC6</th>\n",
              "      <th>PC7</th>\n",
              "      <th>cluster</th>\n",
              "      <th>elbow_clusters</th>\n",
              "    </tr>\n",
              "  </thead>\n",
              "  <tbody>\n",
              "    <tr>\n",
              "      <th>0</th>\n",
              "      <td>0.792519</td>\n",
              "      <td>3.365776</td>\n",
              "      <td>4.283616</td>\n",
              "      <td>-0.003536</td>\n",
              "      <td>-0.667859</td>\n",
              "      <td>0.487113</td>\n",
              "      <td>-0.322203</td>\n",
              "      <td>5</td>\n",
              "      <td>8</td>\n",
              "    </tr>\n",
              "    <tr>\n",
              "      <th>1</th>\n",
              "      <td>-1.003510</td>\n",
              "      <td>-0.018348</td>\n",
              "      <td>-0.405229</td>\n",
              "      <td>0.225674</td>\n",
              "      <td>0.315072</td>\n",
              "      <td>0.418330</td>\n",
              "      <td>-0.212045</td>\n",
              "      <td>6</td>\n",
              "      <td>6</td>\n",
              "    </tr>\n",
              "    <tr>\n",
              "      <th>2</th>\n",
              "      <td>2.915858</td>\n",
              "      <td>-3.121311</td>\n",
              "      <td>1.180639</td>\n",
              "      <td>-0.519300</td>\n",
              "      <td>0.416211</td>\n",
              "      <td>0.605100</td>\n",
              "      <td>-0.488637</td>\n",
              "      <td>7</td>\n",
              "      <td>3</td>\n",
              "    </tr>\n",
              "    <tr>\n",
              "      <th>3</th>\n",
              "      <td>-1.091066</td>\n",
              "      <td>0.599960</td>\n",
              "      <td>1.765466</td>\n",
              "      <td>0.045788</td>\n",
              "      <td>0.306466</td>\n",
              "      <td>0.695292</td>\n",
              "      <td>-0.412363</td>\n",
              "      <td>6</td>\n",
              "      <td>2</td>\n",
              "    </tr>\n",
              "    <tr>\n",
              "      <th>4</th>\n",
              "      <td>-1.815678</td>\n",
              "      <td>-0.650430</td>\n",
              "      <td>0.430747</td>\n",
              "      <td>0.442595</td>\n",
              "      <td>0.296619</td>\n",
              "      <td>0.650706</td>\n",
              "      <td>-0.328808</td>\n",
              "      <td>6</td>\n",
              "      <td>6</td>\n",
              "    </tr>\n",
              "  </tbody>\n",
              "</table>\n",
              "</div>\n",
              "    <div class=\"colab-df-buttons\">\n",
              "\n",
              "  <div class=\"colab-df-container\">\n",
              "    <button class=\"colab-df-convert\" onclick=\"convertToInteractive('df-904455b4-a84a-4d07-83e5-71254a469141')\"\n",
              "            title=\"Convert this dataframe to an interactive table.\"\n",
              "            style=\"display:none;\">\n",
              "\n",
              "  <svg xmlns=\"http://www.w3.org/2000/svg\" height=\"24px\" viewBox=\"0 -960 960 960\">\n",
              "    <path d=\"M120-120v-720h720v720H120Zm60-500h600v-160H180v160Zm220 220h160v-160H400v160Zm0 220h160v-160H400v160ZM180-400h160v-160H180v160Zm440 0h160v-160H620v160ZM180-180h160v-160H180v160Zm440 0h160v-160H620v160Z\"/>\n",
              "  </svg>\n",
              "    </button>\n",
              "\n",
              "  <style>\n",
              "    .colab-df-container {\n",
              "      display:flex;\n",
              "      gap: 12px;\n",
              "    }\n",
              "\n",
              "    .colab-df-convert {\n",
              "      background-color: #E8F0FE;\n",
              "      border: none;\n",
              "      border-radius: 50%;\n",
              "      cursor: pointer;\n",
              "      display: none;\n",
              "      fill: #1967D2;\n",
              "      height: 32px;\n",
              "      padding: 0 0 0 0;\n",
              "      width: 32px;\n",
              "    }\n",
              "\n",
              "    .colab-df-convert:hover {\n",
              "      background-color: #E2EBFA;\n",
              "      box-shadow: 0px 1px 2px rgba(60, 64, 67, 0.3), 0px 1px 3px 1px rgba(60, 64, 67, 0.15);\n",
              "      fill: #174EA6;\n",
              "    }\n",
              "\n",
              "    .colab-df-buttons div {\n",
              "      margin-bottom: 4px;\n",
              "    }\n",
              "\n",
              "    [theme=dark] .colab-df-convert {\n",
              "      background-color: #3B4455;\n",
              "      fill: #D2E3FC;\n",
              "    }\n",
              "\n",
              "    [theme=dark] .colab-df-convert:hover {\n",
              "      background-color: #434B5C;\n",
              "      box-shadow: 0px 1px 3px 1px rgba(0, 0, 0, 0.15);\n",
              "      filter: drop-shadow(0px 1px 2px rgba(0, 0, 0, 0.3));\n",
              "      fill: #FFFFFF;\n",
              "    }\n",
              "  </style>\n",
              "\n",
              "    <script>\n",
              "      const buttonEl =\n",
              "        document.querySelector('#df-904455b4-a84a-4d07-83e5-71254a469141 button.colab-df-convert');\n",
              "      buttonEl.style.display =\n",
              "        google.colab.kernel.accessAllowed ? 'block' : 'none';\n",
              "\n",
              "      async function convertToInteractive(key) {\n",
              "        const element = document.querySelector('#df-904455b4-a84a-4d07-83e5-71254a469141');\n",
              "        const dataTable =\n",
              "          await google.colab.kernel.invokeFunction('convertToInteractive',\n",
              "                                                    [key], {});\n",
              "        if (!dataTable) return;\n",
              "\n",
              "        const docLinkHtml = 'Like what you see? Visit the ' +\n",
              "          '<a target=\"_blank\" href=https://colab.research.google.com/notebooks/data_table.ipynb>data table notebook</a>'\n",
              "          + ' to learn more about interactive tables.';\n",
              "        element.innerHTML = '';\n",
              "        dataTable['output_type'] = 'display_data';\n",
              "        await google.colab.output.renderOutput(dataTable, element);\n",
              "        const docLink = document.createElement('div');\n",
              "        docLink.innerHTML = docLinkHtml;\n",
              "        element.appendChild(docLink);\n",
              "      }\n",
              "    </script>\n",
              "  </div>\n",
              "\n",
              "\n",
              "<div id=\"df-7e1e8fb7-444e-478b-9b35-02618c1dec4a\">\n",
              "  <button class=\"colab-df-quickchart\" onclick=\"quickchart('df-7e1e8fb7-444e-478b-9b35-02618c1dec4a')\"\n",
              "            title=\"Suggest charts\"\n",
              "            style=\"display:none;\">\n",
              "\n",
              "<svg xmlns=\"http://www.w3.org/2000/svg\" height=\"24px\"viewBox=\"0 0 24 24\"\n",
              "     width=\"24px\">\n",
              "    <g>\n",
              "        <path d=\"M19 3H5c-1.1 0-2 .9-2 2v14c0 1.1.9 2 2 2h14c1.1 0 2-.9 2-2V5c0-1.1-.9-2-2-2zM9 17H7v-7h2v7zm4 0h-2V7h2v10zm4 0h-2v-4h2v4z\"/>\n",
              "    </g>\n",
              "</svg>\n",
              "  </button>\n",
              "\n",
              "<style>\n",
              "  .colab-df-quickchart {\n",
              "      --bg-color: #E8F0FE;\n",
              "      --fill-color: #1967D2;\n",
              "      --hover-bg-color: #E2EBFA;\n",
              "      --hover-fill-color: #174EA6;\n",
              "      --disabled-fill-color: #AAA;\n",
              "      --disabled-bg-color: #DDD;\n",
              "  }\n",
              "\n",
              "  [theme=dark] .colab-df-quickchart {\n",
              "      --bg-color: #3B4455;\n",
              "      --fill-color: #D2E3FC;\n",
              "      --hover-bg-color: #434B5C;\n",
              "      --hover-fill-color: #FFFFFF;\n",
              "      --disabled-bg-color: #3B4455;\n",
              "      --disabled-fill-color: #666;\n",
              "  }\n",
              "\n",
              "  .colab-df-quickchart {\n",
              "    background-color: var(--bg-color);\n",
              "    border: none;\n",
              "    border-radius: 50%;\n",
              "    cursor: pointer;\n",
              "    display: none;\n",
              "    fill: var(--fill-color);\n",
              "    height: 32px;\n",
              "    padding: 0;\n",
              "    width: 32px;\n",
              "  }\n",
              "\n",
              "  .colab-df-quickchart:hover {\n",
              "    background-color: var(--hover-bg-color);\n",
              "    box-shadow: 0 1px 2px rgba(60, 64, 67, 0.3), 0 1px 3px 1px rgba(60, 64, 67, 0.15);\n",
              "    fill: var(--button-hover-fill-color);\n",
              "  }\n",
              "\n",
              "  .colab-df-quickchart-complete:disabled,\n",
              "  .colab-df-quickchart-complete:disabled:hover {\n",
              "    background-color: var(--disabled-bg-color);\n",
              "    fill: var(--disabled-fill-color);\n",
              "    box-shadow: none;\n",
              "  }\n",
              "\n",
              "  .colab-df-spinner {\n",
              "    border: 2px solid var(--fill-color);\n",
              "    border-color: transparent;\n",
              "    border-bottom-color: var(--fill-color);\n",
              "    animation:\n",
              "      spin 1s steps(1) infinite;\n",
              "  }\n",
              "\n",
              "  @keyframes spin {\n",
              "    0% {\n",
              "      border-color: transparent;\n",
              "      border-bottom-color: var(--fill-color);\n",
              "      border-left-color: var(--fill-color);\n",
              "    }\n",
              "    20% {\n",
              "      border-color: transparent;\n",
              "      border-left-color: var(--fill-color);\n",
              "      border-top-color: var(--fill-color);\n",
              "    }\n",
              "    30% {\n",
              "      border-color: transparent;\n",
              "      border-left-color: var(--fill-color);\n",
              "      border-top-color: var(--fill-color);\n",
              "      border-right-color: var(--fill-color);\n",
              "    }\n",
              "    40% {\n",
              "      border-color: transparent;\n",
              "      border-right-color: var(--fill-color);\n",
              "      border-top-color: var(--fill-color);\n",
              "    }\n",
              "    60% {\n",
              "      border-color: transparent;\n",
              "      border-right-color: var(--fill-color);\n",
              "    }\n",
              "    80% {\n",
              "      border-color: transparent;\n",
              "      border-right-color: var(--fill-color);\n",
              "      border-bottom-color: var(--fill-color);\n",
              "    }\n",
              "    90% {\n",
              "      border-color: transparent;\n",
              "      border-bottom-color: var(--fill-color);\n",
              "    }\n",
              "  }\n",
              "</style>\n",
              "\n",
              "  <script>\n",
              "    async function quickchart(key) {\n",
              "      const quickchartButtonEl =\n",
              "        document.querySelector('#' + key + ' button');\n",
              "      quickchartButtonEl.disabled = true;  // To prevent multiple clicks.\n",
              "      quickchartButtonEl.classList.add('colab-df-spinner');\n",
              "      try {\n",
              "        const charts = await google.colab.kernel.invokeFunction(\n",
              "            'suggestCharts', [key], {});\n",
              "      } catch (error) {\n",
              "        console.error('Error during call to suggestCharts:', error);\n",
              "      }\n",
              "      quickchartButtonEl.classList.remove('colab-df-spinner');\n",
              "      quickchartButtonEl.classList.add('colab-df-quickchart-complete');\n",
              "    }\n",
              "    (() => {\n",
              "      let quickchartButtonEl =\n",
              "        document.querySelector('#df-7e1e8fb7-444e-478b-9b35-02618c1dec4a button');\n",
              "      quickchartButtonEl.style.display =\n",
              "        google.colab.kernel.accessAllowed ? 'block' : 'none';\n",
              "    })();\n",
              "  </script>\n",
              "</div>\n",
              "\n",
              "    </div>\n",
              "  </div>\n"
            ],
            "application/vnd.google.colaboratory.intrinsic+json": {
              "type": "dataframe",
              "variable_name": "final_df",
              "summary": "{\n  \"name\": \"final_df\",\n  \"rows\": 5235,\n  \"fields\": [\n    {\n      \"column\": \"PC1\",\n      \"properties\": {\n        \"dtype\": \"number\",\n        \"std\": 1.321489275284716,\n        \"min\": -6.747330389176974,\n        \"max\": 10.515894600224682,\n        \"num_unique_values\": 5160,\n        \"samples\": [\n          -1.9222926668157705,\n          0.7951728926302954,\n          0.5597577554478694\n        ],\n        \"semantic_type\": \"\",\n        \"description\": \"\"\n      }\n    },\n    {\n      \"column\": \"PC2\",\n      \"properties\": {\n        \"dtype\": \"number\",\n        \"std\": 1.0402681215788532,\n        \"min\": -7.82230435202142,\n        \"max\": 4.2475494630525015,\n        \"num_unique_values\": 5160,\n        \"samples\": [\n          -0.9128479069586871,\n          0.7015016812290914,\n          1.756755445690183\n        ],\n        \"semantic_type\": \"\",\n        \"description\": \"\"\n      }\n    },\n    {\n      \"column\": \"PC3\",\n      \"properties\": {\n        \"dtype\": \"number\",\n        \"std\": 0.9854268456765072,\n        \"min\": -1.830045406830286,\n        \"max\": 5.401866511647257,\n        \"num_unique_values\": 5160,\n        \"samples\": [\n          0.7045148769970562,\n          0.09382206212118227,\n          0.4098965405709538\n        ],\n        \"semantic_type\": \"\",\n        \"description\": \"\"\n      }\n    },\n    {\n      \"column\": \"PC4\",\n      \"properties\": {\n        \"dtype\": \"number\",\n        \"std\": 0.7251483078133275,\n        \"min\": -1.759100859009758,\n        \"max\": 2.723301942424678,\n        \"num_unique_values\": 5160,\n        \"samples\": [\n          -0.6653794652296412,\n          -1.073038434318267,\n          -0.871853213640677\n        ],\n        \"semantic_type\": \"\",\n        \"description\": \"\"\n      }\n    },\n    {\n      \"column\": \"PC5\",\n      \"properties\": {\n        \"dtype\": \"number\",\n        \"std\": 0.4780178177404365,\n        \"min\": -0.7641650560880137,\n        \"max\": 0.5026933392776303,\n        \"num_unique_values\": 5160,\n        \"samples\": [\n          0.31407449363528084,\n          -0.59539848621962,\n          0.36192113541154636\n        ],\n        \"semantic_type\": \"\",\n        \"description\": \"\"\n      }\n    },\n    {\n      \"column\": \"PC6\",\n      \"properties\": {\n        \"dtype\": \"number\",\n        \"std\": 0.42493716558056277,\n        \"min\": -2.792314482124585,\n        \"max\": 1.367794620243914,\n        \"num_unique_values\": 5160,\n        \"samples\": [\n          1.168449958501345,\n          -0.6656403061942636,\n          0.17640525151587377\n        ],\n        \"semantic_type\": \"\",\n        \"description\": \"\"\n      }\n    },\n    {\n      \"column\": \"PC7\",\n      \"properties\": {\n        \"dtype\": \"number\",\n        \"std\": 0.386400166546487,\n        \"min\": -2.300548027659346,\n        \"max\": 1.4579925718427449,\n        \"num_unique_values\": 5160,\n        \"samples\": [\n          0.5044078085593791,\n          0.6731958259014673,\n          -0.1965219364938489\n        ],\n        \"semantic_type\": \"\",\n        \"description\": \"\"\n      }\n    },\n    {\n      \"column\": \"cluster\",\n      \"properties\": {\n        \"dtype\": \"int32\",\n        \"num_unique_values\": 8,\n        \"samples\": [\n          6,\n          3,\n          5\n        ],\n        \"semantic_type\": \"\",\n        \"description\": \"\"\n      }\n    },\n    {\n      \"column\": \"elbow_clusters\",\n      \"properties\": {\n        \"dtype\": \"int32\",\n        \"num_unique_values\": 13,\n        \"samples\": [\n          10,\n          7,\n          8\n        ],\n        \"semantic_type\": \"\",\n        \"description\": \"\"\n      }\n    }\n  ]\n}"
            }
          },
          "metadata": {},
          "execution_count": 131
        }
      ]
    },
    {
      "cell_type": "code",
      "source": [],
      "metadata": {
        "id": "aXGJ2RC9pQiG"
      },
      "execution_count": null,
      "outputs": []
    },
    {
      "cell_type": "markdown",
      "metadata": {
        "id": "OrAo_4ntA-RV"
      },
      "source": [
        "### Clustering"
      ]
    },
    {
      "cell_type": "markdown",
      "metadata": {
        "id": "_Cr9lizPA-RW"
      },
      "source": [
        "## K-means Clustering"
      ]
    },
    {
      "cell_type": "code",
      "execution_count": null,
      "metadata": {
        "id": "z0TJrb6dA-RW"
      },
      "outputs": [],
      "source": [
        "def find_sil_scores(fianl_df, n_clusters):\n",
        "    silhouette_list = []\n",
        "    K = range(2, n_clusters)\n",
        "    for k in K:\n",
        "        myKMeans = KMeans(n_clusters=k, init='k-means++', random_state=42)\n",
        "        myKMeans.fit(final_df)\n",
        "        sil_score = silhouette_score(final_df, myKMeans.labels_)\n",
        "        silhouette_list.append(sil_score)\n",
        "    return silhouette_list"
      ]
    },
    {
      "cell_type": "code",
      "execution_count": null,
      "metadata": {
        "id": "3fqYigRMA-RW"
      },
      "outputs": [],
      "source": [
        "sil_list = find_sil_scores(final_df, 25)"
      ]
    },
    {
      "cell_type": "code",
      "execution_count": null,
      "metadata": {
        "colab": {
          "base_uri": "https://localhost:8080/"
        },
        "id": "-PmyxKBAA-RW",
        "outputId": "79a2d715-606c-43dd-e419-67467f84f181"
      },
      "outputs": [
        {
          "output_type": "stream",
          "name": "stdout",
          "text": [
            "n_clusters:2, Silhouette Score: 0.44621023783417724\n",
            "n_clusters:3, Silhouette Score: 0.3133998811629339\n",
            "n_clusters:4, Silhouette Score: 0.4568273139463521\n",
            "n_clusters:5, Silhouette Score: 0.4669457579345846\n",
            "n_clusters:6, Silhouette Score: 0.47723904570639225\n",
            "n_clusters:7, Silhouette Score: 0.5272386403487741\n",
            "n_clusters:8, Silhouette Score: 0.4473581154671449\n",
            "n_clusters:9, Silhouette Score: 0.5054986230490347\n",
            "n_clusters:10, Silhouette Score: 0.54101727397405\n",
            "n_clusters:11, Silhouette Score: 0.5127546894942876\n",
            "n_clusters:12, Silhouette Score: 0.5149923053344359\n",
            "n_clusters:13, Silhouette Score: 0.5078385426104169\n",
            "n_clusters:14, Silhouette Score: 0.4976648249620942\n",
            "n_clusters:15, Silhouette Score: 0.4123439174014159\n",
            "n_clusters:16, Silhouette Score: 0.39643704636875887\n",
            "n_clusters:17, Silhouette Score: 0.35638649073658957\n",
            "n_clusters:18, Silhouette Score: 0.3557320463214628\n",
            "n_clusters:19, Silhouette Score: 0.3411908851004205\n",
            "n_clusters:20, Silhouette Score: 0.34022780360687277\n",
            "n_clusters:21, Silhouette Score: 0.33138766790390484\n",
            "n_clusters:22, Silhouette Score: 0.32847371857538826\n",
            "n_clusters:23, Silhouette Score: 0.2907344155654331\n",
            "n_clusters:24, Silhouette Score: 0.29098575411850236\n"
          ]
        }
      ],
      "source": [
        "for i in range(0,23):\n",
        "    print(f\"n_clusters:{i+2}, Silhouette Score: {sil_list[i]}\")"
      ]
    },
    {
      "cell_type": "code",
      "execution_count": null,
      "metadata": {
        "colab": {
          "base_uri": "https://localhost:8080/"
        },
        "id": "DvFibAbOA-RW",
        "outputId": "8f3d8d41-fab5-4746-d928-4e69d5d3801d"
      },
      "outputs": [
        {
          "output_type": "stream",
          "name": "stdout",
          "text": [
            "K-Means Performance:\n",
            "Number of Clusters: 12\n",
            "Silhouette Score: 0.5149923053344359\n",
            "Calinski-Harabasz Score: 5266.053229391723\n",
            "Davies-Bouldin Score: 0.717181475104551\n"
          ]
        }
      ],
      "source": [
        "myKMeans = KMeans(n_clusters=12, init='k-means++', random_state=42)\n",
        "myKMeans.fit(final_df)\n",
        "\n",
        "sil_score = silhouette_score(final_df, myKMeans.labels_)\n",
        "db_score = davies_bouldin_score(final_df, myKMeans.labels_)\n",
        "ch_score = calinski_harabasz_score(final_df, myKMeans.labels_)\n",
        "\n",
        "print(\"K-Means Performance:\")\n",
        "print(\"Number of Clusters: 12\")\n",
        "print(f\"Silhouette Score: {sil_score}\")\n",
        "print(f\"Calinski-Harabasz Score: {ch_score}\")\n",
        "print(f\"Davies-Bouldin Score: {db_score}\")"
      ]
    },
    {
      "cell_type": "code",
      "source": [
        "kl"
      ],
      "metadata": {
        "colab": {
          "base_uri": "https://localhost:8080/",
          "height": 141
        },
        "id": "0FO3SWrMiyzJ",
        "outputId": "7c3df341-92a2-4fef-9a90-377fd85cbac9"
      },
      "execution_count": null,
      "outputs": [
        {
          "output_type": "error",
          "ename": "NameError",
          "evalue": "name 'kl' is not defined",
          "traceback": [
            "\u001b[0;31m---------------------------------------------------------------------------\u001b[0m",
            "\u001b[0;31mNameError\u001b[0m                                 Traceback (most recent call last)",
            "\u001b[0;32m<ipython-input-136-1775ba9267e7>\u001b[0m in \u001b[0;36m<cell line: 1>\u001b[0;34m()\u001b[0m\n\u001b[0;32m----> 1\u001b[0;31m \u001b[0mkl\u001b[0m\u001b[0;34m\u001b[0m\u001b[0;34m\u001b[0m\u001b[0m\n\u001b[0m",
            "\u001b[0;31mNameError\u001b[0m: name 'kl' is not defined"
          ]
        }
      ]
    },
    {
      "cell_type": "markdown",
      "metadata": {
        "id": "PjOK469KA-RX"
      },
      "source": [
        "## Agglomerative Clustering"
      ]
    },
    {
      "cell_type": "code",
      "execution_count": null,
      "metadata": {
        "id": "q21zB2SmA-RX"
      },
      "outputs": [],
      "source": [
        "def agg_tuning(data, cluster_range, linkage_methods):\n",
        "    results = []\n",
        "\n",
        "    for linkage in linkage_methods:\n",
        "        for n_clusters in cluster_range:\n",
        "            agg_clustering = AgglomerativeClustering(n_clusters=n_clusters, linkage=linkage)\n",
        "            labels = agg_clustering.fit_predict(data)\n",
        "\n",
        "            if len(set(labels)) > 1:\n",
        "                silhouette = silhouette_score(data, labels)\n",
        "                davies_bouldin = davies_bouldin_score(data, labels)\n",
        "                calinski_harabasz = calinski_harabasz_score(data, labels)\n",
        "                results.append((n_clusters, linkage, silhouette, davies_bouldin, calinski_harabasz))\n",
        "            else:\n",
        "                results.append((n_clusters, linkage, None, None, None))\n",
        "\n",
        "    best_result = max(results, key=lambda x: x[2] if x[2] is not None else -1)\n",
        "\n",
        "    return results, best_result\n",
        "cluster_range = range(15, 25)\n",
        "linkage_methods = ['ward', 'complete', 'average', 'single']\n",
        "results, best_result = agg_tuning(final_df, cluster_range, linkage_methods)\n",
        "print(\"Agglomerative Clustering Tuning Results:\")\n",
        "for n_clusters, linkage, silhouette, davies_bouldin, calinski_harabasz in results:\n",
        "    print(f\"Clusters: {n_clusters}, Linkage: {linkage}, \"\n",
        "          f\"Silhouette Score: {silhouette}, \"\n",
        "          f\"Davies-Bouldin Index: {davies_bouldin}, \"\n",
        "          f\"Calinski-Harabasz Index: {calinski_harabasz}\")\n",
        "best_clusters, best_linkage, best_silhouette, best_db, best_ch = best_result\n",
        "print(\"\\nBest results for Agglomerative Clustering:\")\n",
        "print(f\"Clusters: {best_clusters}, Linkage: {best_linkage}\")\n",
        "print(f\"Silhouette Score: {best_silhouette}\")\n",
        "print(f\"Davies-Bouldin Index: {best_db}\")\n",
        "print(f\"Calinski-Harabasz Index: {best_ch}\")"
      ]
    },
    {
      "cell_type": "code",
      "source": [
        "from scipy.cluster.hierarchy import dendrogram, linkage"
      ],
      "metadata": {
        "id": "nMuyNxLtQpHz"
      },
      "execution_count": null,
      "outputs": []
    },
    {
      "cell_type": "code",
      "source": [
        "def plot_dendrogram(data, method):\n",
        "    Z = linkage(data, method=method)\n",
        "    plt.figure(figsize=(10, 7))\n",
        "    plt.title(f\"Dendrogram (Linkage Method: {method})\")\n",
        "    dendrogram(Z)\n",
        "    plt.xlabel(\"Data Points\")\n",
        "    plt.ylabel(\"Distance\")\n",
        "    plt.show()\n",
        "plot_dendrogram(final_df, method='ward')\n"
      ],
      "metadata": {
        "id": "M52yiVDPEMUg"
      },
      "execution_count": null,
      "outputs": []
    },
    {
      "cell_type": "markdown",
      "metadata": {
        "id": "qi23dIdTA-RY"
      },
      "source": [
        "## DBSCAN"
      ]
    },
    {
      "cell_type": "code",
      "execution_count": null,
      "metadata": {
        "id": "oQ81OGqrA-RY"
      },
      "outputs": [],
      "source": [
        "dbscan = DBSCAN(eps=1.5, min_samples=15)\n",
        "dbscan_labels = dbscan.fit_predict(final_df)\n",
        "\n",
        "final_df['dbscan_labels'] = dbscan_labels\n",
        "\n",
        "cluster_counts = final_df['dbscan_labels'].value_counts()\n",
        "print(\"\\nDBSCAN Cluster Counts:\\n\", cluster_counts)\n",
        "\n",
        "noise_count = cluster_counts.get(-1, 0)\n",
        "total_samples = len(final_df)\n",
        "noise_proportion = noise_count / total_samples\n",
        "print(f\"\\nNoise Proportion (-1 class): {noise_count}/{total_samples} ({noise_proportion:.2%})\")"
      ]
    },
    {
      "cell_type": "code",
      "execution_count": null,
      "metadata": {
        "id": "U9BD2EMNA-RZ"
      },
      "outputs": [],
      "source": [
        "sns.countplot(x='dbscan_labels', data=final_df)\n",
        "plt.title(\"Cluster Distribution - DBSCAN\")\n",
        "plt.xlabel(\"Cluster\")\n",
        "plt.ylabel(\"Count\")\n",
        "plt.show()"
      ]
    },
    {
      "cell_type": "code",
      "execution_count": null,
      "metadata": {
        "id": "w8bVoqKWA-RZ"
      },
      "outputs": [],
      "source": [
        "print(\"DBSCAN Performance:\")\n",
        "print(\"Epsilon: 1.5\")\n",
        "print(\"Min Samples: 15\")\n",
        "print(\"Number of Clusters: 12\")\n",
        "valid_labels = final_df['dbscan_labels'] != -1\n",
        "if valid_labels.any():\n",
        "    score = silhouette_score(final_df[valid_labels], dbscan_labels[valid_labels])\n",
        "    print(\"\\nDBSCAN Silhouette Score:\", score)\n",
        "else:\n",
        "    print(\"\\nNo valid clusters found by DBSCAN.\")\n",
        "\n",
        "\n",
        "db_score = davies_bouldin_score(final_df[valid_labels],dbscan_labels[valid_labels])\n",
        "ch_score = calinski_harabasz_score(final_df[valid_labels], dbscan_labels[valid_labels])\n",
        "\n",
        "print(f\"Calinski-Harabasz Score: {ch_score}\")\n",
        "print(f\"Davies-Bouldin Score: {db_score}\")"
      ]
    },
    {
      "cell_type": "code",
      "source": [
        "features = ['PC1', 'PC2', 'PC3', 'PC4', 'PC5', 'PC6', 'PC7']\n",
        "cluster_labels = sorted(label for label in final_df['dbscan_labels'].unique() if label != -1)\n",
        "\n",
        "colors = plt.cm.tab10(np.linspace(0, 1, len(cluster_labels)))\n",
        "n_clusters = len(cluster_labels)\n",
        "\n",
        "fig, axes = plt.subplots(\n",
        "    nrows=int(np.ceil(n_clusters / 3)), ncols=3,\n",
        "    figsize=(18, 12), subplot_kw=dict(polar=True)\n",
        ")\n",
        "\n",
        "axes = axes.flatten()\n",
        "\n",
        "for idx, (cluster_label, color) in enumerate(zip(cluster_labels, colors)):\n",
        "    cluster_data = final_df[final_df['dbscan_labels'] == cluster_label][features].mean()\n",
        "    values = cluster_data.tolist()\n",
        "    values += values[:1]\n",
        "    angles = np.linspace(0, 2 * np.pi, len(features), endpoint=False).tolist()\n",
        "    angles += angles[:1]\n",
        "\n",
        "    ax = axes[idx]\n",
        "    ax.fill(angles, values, color=color, alpha=0.25)\n",
        "    ax.plot(angles, values, color=color, linewidth=2)\n",
        "    ax.set_yticks([])\n",
        "    ax.set_xticks(angles[:-1])\n",
        "    ax.set_xticklabels(features, fontsize=10)\n",
        "    ax.set_title(f\"Cluster {cluster_label}\", fontsize=14, pad=20)\n",
        "\n",
        "for ax in axes[len(cluster_labels):]:\n",
        "    fig.delaxes(ax)\n",
        "\n",
        "plt.tight_layout()\n",
        "plt.show()\n"
      ],
      "metadata": {
        "id": "xEo-QKlnYQaL"
      },
      "execution_count": null,
      "outputs": []
    },
    {
      "cell_type": "markdown",
      "source": [
        "Each cluster has a unique profile based on principal component (PC) values, showing distinct user groups with different characteristics. Some clusters are defined by specific PCs (e.g., Cluster 1 by PC2, Cluster 3 by PC4), while others share patterns across PCs (e.g., Clusters 0 and 8 both emphasize PC2 and PC3). These profiles can help in targeted marketing, personalized recommendations, and user segmentation by tailoring content to match each group's characteristics. Further analysis could clarify the meaning of each PC, enhancing the model's interpretability and application."
      ],
      "metadata": {
        "id": "wYQXEEuJZy08"
      }
    },
    {
      "cell_type": "markdown",
      "source": [
        "## Cluster Analysis"
      ],
      "metadata": {
        "id": "ufQ4Jo2T6bf_"
      }
    },
    {
      "cell_type": "code",
      "source": [
        "eda_df['dbscan_labels'] = dbscan_labels\n",
        "eda_df.head()"
      ],
      "metadata": {
        "id": "BsX4SCebqVsg"
      },
      "execution_count": null,
      "outputs": []
    },
    {
      "cell_type": "code",
      "source": [
        "for i in range(12):\n",
        "    print('Cluster:', i)\n",
        "    display(eda_df[eda_df['dbscan_labels'] == i].describe())\n",
        "    print('\\n')\n",
        "    eda_df['dbscan_labels']"
      ],
      "metadata": {
        "id": "BtULv5RKq6y3"
      },
      "execution_count": null,
      "outputs": []
    },
    {
      "cell_type": "code",
      "source": [
        "def plot_violin_filtered(data, label_col, num_cols, nrows=1, figsize=(16, 70)):\n",
        "\n",
        "    data = data[data[label_col] != -1]\n",
        "\n",
        "    fig, axs = plt.subplots(nrows=nrows, ncols=1, figsize=figsize)\n",
        "\n",
        "    if nrows == 1:\n",
        "        axs = [axs]\n",
        "\n",
        "    for i, col in enumerate(num_cols):\n",
        "        q1, q3 = np.quantile(data[col].dropna(), [0.25, 0.75])\n",
        "        upper_bound = q3 + 1.5 * (q3 - q1)\n",
        "\n",
        "        filtered_data = data.loc[data[col] <= upper_bound, [label_col, col]].dropna()\n",
        "\n",
        "        if not filtered_data.empty:\n",
        "            sns.violinplot(data=filtered_data, x=label_col, y=col, ax=axs[i])\n",
        "        else:\n",
        "            axs[i].text(0.5, 0.5, f'No Data for {col}',\n",
        "                        horizontalalignment='center', verticalalignment='center', transform=axs[i].transAxes)\n",
        "            axs[i].set_title(f\"No valid data for {col}\")\n",
        "\n",
        "    plt.tight_layout()\n",
        "    plt.show()\n"
      ],
      "metadata": {
        "id": "tHgXWLFvthQE"
      },
      "execution_count": null,
      "outputs": []
    },
    {
      "cell_type": "code",
      "source": [
        "num_columns = eda_df.columns.drop('dbscan_labels')\n",
        "plot_violin_filtered(eda_df, 'dbscan_labels', num_columns, nrows=len(num_columns), figsize=(16, 70))"
      ],
      "metadata": {
        "id": "NJ6mw8sUzmWG"
      },
      "execution_count": null,
      "outputs": []
    },
    {
      "cell_type": "markdown",
      "source": [
        "## Cluster Analysis"
      ],
      "metadata": {
        "id": "fugNrSsT3RYV"
      }
    },
    {
      "cell_type": "markdown",
      "source": [
        "From the above Graphs we observe clusters formed has unique features and each of them are suitable for particular ocassions for example\n",
        "\n",
        "Cluster 2: It has High danceability, energy, and positivity; low acousticness.\n",
        "Perfect for upbeat party playlists.\n",
        "\n",
        "Cluster 4: has High acousticness, low energy, and neutral mood.\n",
        "Great for mellow, acoustic-focused playlists.\n",
        "\n",
        "Cluster 6: High acousticness, low energy, and sad mood.\n",
        "Ideal for emotional or reflective acoustic playlists.\n",
        "\n",
        "Cluster 11: High danceability, energy, and positivity; low acousticness.\n",
        "Perfect for high-energy dance playlists.\n",
        "\n",
        "Cluster 9: Mellow, less danceable, mixed acousticness, and sad mood.\n",
        "Good for introspective or calming playlists."
      ],
      "metadata": {
        "id": "X-lsbGZ03XYd"
      }
    },
    {
      "cell_type": "markdown",
      "metadata": {
        "id": "Ch_Mo6vvA-Rb"
      },
      "source": [
        "### INSIGTHS"
      ]
    },
    {
      "cell_type": "markdown",
      "metadata": {
        "id": "XEWSAxOEA-Rb"
      },
      "source": [
        " 1.) Clustering algorithms (K-Means, DBSCAN, Agglomerative) revealed distinct groups of songs with shared audio characteristics.    \n",
        "\n",
        "2.) PCA helped reduce the complexity of the feature space, making it easier to visualize and interpret the clusters, enhancing the understanding of song groupings based on audio features.\n",
        "\n",
        "3.)  Min-Max scaling normalized the features to a fixed range (0 to 1), making algorithms like K-Means more effective by ensuring all features contributed equally. This likely improved the cohesion and separation of clusters."
      ]
    },
    {
      "cell_type": "markdown",
      "metadata": {
        "id": "8FDo6xeFA-Rc"
      },
      "source": [
        "### Further scope"
      ]
    },
    {
      "cell_type": "markdown",
      "metadata": {
        "id": "fugFdwrsA-Rc"
      },
      "source": [
        "\n",
        "Clustering for song recommendations can be further enhanced by incorporating a wide range of audio and contextual features, such as tempo, rhythm, mood, lyrics, and even metadata like artist collaborations or release year. By grouping songs into clusters based on these attributes, the system can recommend tracks that align with a user’s listening preferences while also introducing diverse options from less explored clusters. Additionally, clustering can adapt dynamically to trends, enabling recommendations that reflect both individual tastes and evolving popular patterns, ensuring a more personalized and engaging music discovery experience."
      ]
    },
    {
      "cell_type": "markdown",
      "metadata": {
        "id": "Ck8VpcmeA-Re"
      },
      "source": [
        "### Refrences  "
      ]
    },
    {
      "cell_type": "markdown",
      "metadata": {
        "id": "lEQlbbGNA-Re"
      },
      "source": [
        "https://iieta.org/journals/ria/paper/10.18280/ria.380138\n",
        "\n",
        "Hands on ML\n",
        "\n",
        "https://scikit-learn.org/stable/"
      ]
    },
    {
      "cell_type": "markdown",
      "metadata": {
        "id": "EOxcrim6A-Re"
      },
      "source": [
        "### Pseduo Code"
      ]
    },
    {
      "cell_type": "markdown",
      "metadata": {
        "id": "GImZ7oW8A-Rf"
      },
      "source": [
        "Algorithm K-Means Clustering:\n",
        "\n",
        "1. Initialize centroids\n",
        "   - Randomly select k data points from the dataset as initial centroids.\n",
        "\n",
        "2. Repeat until convergence:\n",
        "   a. Assignment step:\n",
        "      - For each data point in the dataset:\n",
        "        i.  Calculate the distance between the data point and each centroid.\n",
        "        ii. Assign the data point to the nearest centroid.\n",
        "   \n",
        "   b. Update step:\n",
        "      - For each centroid:\n",
        "        i.  Calculate the new centroid by taking the mean of all data points assigned to it.\n",
        "\n",
        "3. Convergence criteria:\n",
        "   - Check if the centroids have stopped moving (i.e., the changes in centroid positions are below a certain threshold).\n",
        "   - If centroids have converged, terminate the algorithm.\n",
        "   - If not, repeat steps 2a and 2b.\n",
        "\n",
        "End Algorithm"
      ]
    },
    {
      "cell_type": "markdown",
      "metadata": {
        "id": "vWf-_hB_A-Rf"
      },
      "source": [
        "## Agglomerative Clustering"
      ]
    },
    {
      "cell_type": "markdown",
      "metadata": {
        "id": "3habdPpvA-Rf"
      },
      "source": [
        "given a dataset (d1, d2, d3, ....dN) of size N\n",
        "\n",
        " compute the distance matrix\n",
        "for i=1 to N:\n",
        "   \n",
        "   as the distance matrix is symmetric about\n",
        "   the primary diagonal so we compute only lower\n",
        "   part of the primary diagonal\n",
        "   \n",
        "   for j=1 to i:\n",
        "      dis_mat[i][j] = distance[di, dj]\n",
        "\n",
        "each data point is a singleton cluster\n",
        "repeat\n",
        "   merge the two cluster having minimum distance\n",
        "   update the distance matrix\n",
        "until only a single cluster remains"
      ]
    },
    {
      "cell_type": "markdown",
      "metadata": {
        "id": "tXRfAlpxA-Rf"
      },
      "source": [
        "### DBSCAN"
      ]
    },
    {
      "cell_type": "markdown",
      "metadata": {
        "id": "sOKC2vcZA-Rf"
      },
      "source": [
        "DBSCAN(dataset, eps, MinPts){\n",
        "cluster index\n",
        "C = 1\n",
        "for each unvisited point p in dataset {\n",
        "         mark p as visited\n",
        "         # find neighbors\n",
        "         Neighbors N = find the neighboring points of p\n",
        "\n",
        "         if |N|>=MinPts:\n",
        "             N = N U N'\n",
        "             if p' is not a member of any cluster:\n",
        "                 add p' to cluster C\n",
        "}"
      ]
    }
  ],
  "metadata": {
    "kernelspec": {
      "display_name": "base",
      "language": "python",
      "name": "python3"
    },
    "language_info": {
      "codemirror_mode": {
        "name": "ipython",
        "version": 3
      },
      "file_extension": ".py",
      "mimetype": "text/x-python",
      "name": "python",
      "nbconvert_exporter": "python",
      "pygments_lexer": "ipython3",
      "version": "3.11.5"
    },
    "colab": {
      "provenance": []
    }
  },
  "nbformat": 4,
  "nbformat_minor": 0
}